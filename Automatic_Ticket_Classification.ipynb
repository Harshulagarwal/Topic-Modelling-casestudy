{
 "cells": [
  {
   "cell_type": "markdown",
   "metadata": {
    "id": "rhR-ZUkwJrFn"
   },
   "source": [
    "## Problem Statement \n",
    "\n",
    "You need to build a model that is able to classify customer complaints based on the products/services. By doing so, you can segregate these tickets into their relevant categories and, therefore, help in the quick resolution of the issue.\n",
    "\n",
    "You will be doing topic modelling on the <b>.json</b> data provided by the company. Since this data is not labelled, you need to apply NMF to analyse patterns and classify tickets into the following five clusters based on their products/services:\n",
    "\n",
    "* Credit card / Prepaid card\n",
    "\n",
    "* Bank account services\n",
    "\n",
    "* Theft/Dispute reporting\n",
    "\n",
    "* Mortgages/loans\n",
    "\n",
    "* Others \n",
    "\n",
    "\n",
    "With the help of topic modelling, you will be able to map each ticket onto its respective department/category. You can then use this data to train any supervised model such as logistic regression, decision tree or random forest. Using this trained model, you can classify any new customer complaint support ticket into its relevant department."
   ]
  },
  {
   "cell_type": "markdown",
   "metadata": {
    "id": "mcgXVNyaLUFS"
   },
   "source": [
    "## Pipelines that needs to be performed:\n",
    "\n",
    "You need to perform the following eight major tasks to complete the assignment:\n",
    "\n",
    "1.  Data loading\n",
    "\n",
    "2. Text preprocessing\n",
    "\n",
    "3. Exploratory data analysis (EDA)\n",
    "\n",
    "4. Feature extraction\n",
    "\n",
    "5. Topic modelling \n",
    "\n",
    "6. Model building using supervised learning\n",
    "\n",
    "7. Model training and evaluation\n",
    "\n",
    "8. Model inference"
   ]
  },
  {
   "cell_type": "markdown",
   "metadata": {
    "id": "JuLFIymAL58u"
   },
   "source": [
    "## Importing the necessary libraries"
   ]
  },
  {
   "cell_type": "code",
   "execution_count": 1,
   "metadata": {
    "id": "O-Q9pqrcJrFr"
   },
   "outputs": [],
   "source": [
    "import json \n",
    "import numpy as np\n",
    "import pandas as pd\n",
    "import re, nltk, spacy, string\n",
    "import en_core_web_md\n",
    "import seaborn as sns\n",
    "spacy.prefer_gpu()\n",
    "import matplotlib.pyplot as plt\n",
    "%matplotlib inline\n",
    "\n",
    "from plotly.offline import plot\n",
    "import plotly.graph_objects as go\n",
    "import plotly.express as px\n",
    "import swifter\n",
    "\n",
    "from sklearn.feature_extraction.text import CountVectorizer, TfidfVectorizer, TfidfTransformer\n",
    "from pprint import pprint"
   ]
  },
  {
   "cell_type": "markdown",
   "metadata": {
    "id": "KtRLCsNVJrFt"
   },
   "source": [
    "## Loading the data\n",
    "\n",
    "The data is in JSON format and we need to convert it to a dataframe."
   ]
  },
  {
   "cell_type": "code",
   "execution_count": 2,
   "metadata": {
    "id": "puVzIf_iJrFt"
   },
   "outputs": [],
   "source": [
    "# Opening JSON file \n",
    "f = open(\"C:\\\\Users\\\\harsh\\\\Downloads\\\\nlp project\\\\casestudy\\\\complaints.json\")\n",
    "  \n",
    "# returns JSON object as  \n",
    "# a dictionary \n",
    "data = json.load(f)\n",
    "df=pd.json_normalize(data)"
   ]
  },
  {
   "cell_type": "markdown",
   "metadata": {
    "id": "_xYpH-sAJrFu"
   },
   "source": [
    "## Data preparation"
   ]
  },
  {
   "cell_type": "code",
   "execution_count": 3,
   "metadata": {
    "id": "Lf8ufHH5JrFu"
   },
   "outputs": [
    {
     "data": {
      "text/html": [
       "<div>\n",
       "<style scoped>\n",
       "    .dataframe tbody tr th:only-of-type {\n",
       "        vertical-align: middle;\n",
       "    }\n",
       "\n",
       "    .dataframe tbody tr th {\n",
       "        vertical-align: top;\n",
       "    }\n",
       "\n",
       "    .dataframe thead th {\n",
       "        text-align: right;\n",
       "    }\n",
       "</style>\n",
       "<table border=\"1\" class=\"dataframe\">\n",
       "  <thead>\n",
       "    <tr style=\"text-align: right;\">\n",
       "      <th></th>\n",
       "      <th>_index</th>\n",
       "      <th>_type</th>\n",
       "      <th>_id</th>\n",
       "      <th>_score</th>\n",
       "      <th>_source.tags</th>\n",
       "      <th>_source.zip_code</th>\n",
       "      <th>_source.complaint_id</th>\n",
       "      <th>_source.issue</th>\n",
       "      <th>_source.date_received</th>\n",
       "      <th>_source.state</th>\n",
       "      <th>...</th>\n",
       "      <th>_source.company_response</th>\n",
       "      <th>_source.company</th>\n",
       "      <th>_source.submitted_via</th>\n",
       "      <th>_source.date_sent_to_company</th>\n",
       "      <th>_source.company_public_response</th>\n",
       "      <th>_source.sub_product</th>\n",
       "      <th>_source.timely</th>\n",
       "      <th>_source.complaint_what_happened</th>\n",
       "      <th>_source.sub_issue</th>\n",
       "      <th>_source.consumer_consent_provided</th>\n",
       "    </tr>\n",
       "  </thead>\n",
       "  <tbody>\n",
       "    <tr>\n",
       "      <th>0</th>\n",
       "      <td>complaint-public-v2</td>\n",
       "      <td>complaint</td>\n",
       "      <td>3211475</td>\n",
       "      <td>0.0</td>\n",
       "      <td>None</td>\n",
       "      <td>90301</td>\n",
       "      <td>3211475</td>\n",
       "      <td>Attempts to collect debt not owed</td>\n",
       "      <td>2019-04-13T12:00:00-05:00</td>\n",
       "      <td>CA</td>\n",
       "      <td>...</td>\n",
       "      <td>Closed with explanation</td>\n",
       "      <td>JPMORGAN CHASE &amp; CO.</td>\n",
       "      <td>Web</td>\n",
       "      <td>2019-04-13T12:00:00-05:00</td>\n",
       "      <td>None</td>\n",
       "      <td>Credit card debt</td>\n",
       "      <td>Yes</td>\n",
       "      <td></td>\n",
       "      <td>Debt is not yours</td>\n",
       "      <td>Consent not provided</td>\n",
       "    </tr>\n",
       "    <tr>\n",
       "      <th>1</th>\n",
       "      <td>complaint-public-v2</td>\n",
       "      <td>complaint</td>\n",
       "      <td>3229299</td>\n",
       "      <td>0.0</td>\n",
       "      <td>Servicemember</td>\n",
       "      <td>319XX</td>\n",
       "      <td>3229299</td>\n",
       "      <td>Written notification about debt</td>\n",
       "      <td>2019-05-01T12:00:00-05:00</td>\n",
       "      <td>GA</td>\n",
       "      <td>...</td>\n",
       "      <td>Closed with explanation</td>\n",
       "      <td>JPMORGAN CHASE &amp; CO.</td>\n",
       "      <td>Web</td>\n",
       "      <td>2019-05-01T12:00:00-05:00</td>\n",
       "      <td>None</td>\n",
       "      <td>Credit card debt</td>\n",
       "      <td>Yes</td>\n",
       "      <td>Good morning my name is XXXX XXXX and I apprec...</td>\n",
       "      <td>Didn't receive enough information to verify debt</td>\n",
       "      <td>Consent provided</td>\n",
       "    </tr>\n",
       "    <tr>\n",
       "      <th>2</th>\n",
       "      <td>complaint-public-v2</td>\n",
       "      <td>complaint</td>\n",
       "      <td>3199379</td>\n",
       "      <td>0.0</td>\n",
       "      <td>None</td>\n",
       "      <td>77069</td>\n",
       "      <td>3199379</td>\n",
       "      <td>Other features, terms, or problems</td>\n",
       "      <td>2019-04-02T12:00:00-05:00</td>\n",
       "      <td>TX</td>\n",
       "      <td>...</td>\n",
       "      <td>Closed with explanation</td>\n",
       "      <td>JPMORGAN CHASE &amp; CO.</td>\n",
       "      <td>Web</td>\n",
       "      <td>2019-04-02T12:00:00-05:00</td>\n",
       "      <td>None</td>\n",
       "      <td>General-purpose credit card or charge card</td>\n",
       "      <td>Yes</td>\n",
       "      <td>I upgraded my XXXX XXXX card in XX/XX/2018 and...</td>\n",
       "      <td>Problem with rewards from credit card</td>\n",
       "      <td>Consent provided</td>\n",
       "    </tr>\n",
       "    <tr>\n",
       "      <th>3</th>\n",
       "      <td>complaint-public-v2</td>\n",
       "      <td>complaint</td>\n",
       "      <td>2673060</td>\n",
       "      <td>0.0</td>\n",
       "      <td>None</td>\n",
       "      <td>48066</td>\n",
       "      <td>2673060</td>\n",
       "      <td>Trouble during payment process</td>\n",
       "      <td>2017-09-13T12:00:00-05:00</td>\n",
       "      <td>MI</td>\n",
       "      <td>...</td>\n",
       "      <td>Closed with explanation</td>\n",
       "      <td>JPMORGAN CHASE &amp; CO.</td>\n",
       "      <td>Web</td>\n",
       "      <td>2017-09-14T12:00:00-05:00</td>\n",
       "      <td>None</td>\n",
       "      <td>Conventional home mortgage</td>\n",
       "      <td>Yes</td>\n",
       "      <td></td>\n",
       "      <td>None</td>\n",
       "      <td>Consent not provided</td>\n",
       "    </tr>\n",
       "    <tr>\n",
       "      <th>4</th>\n",
       "      <td>complaint-public-v2</td>\n",
       "      <td>complaint</td>\n",
       "      <td>3203545</td>\n",
       "      <td>0.0</td>\n",
       "      <td>None</td>\n",
       "      <td>10473</td>\n",
       "      <td>3203545</td>\n",
       "      <td>Fees or interest</td>\n",
       "      <td>2019-04-05T12:00:00-05:00</td>\n",
       "      <td>NY</td>\n",
       "      <td>...</td>\n",
       "      <td>Closed with explanation</td>\n",
       "      <td>JPMORGAN CHASE &amp; CO.</td>\n",
       "      <td>Referral</td>\n",
       "      <td>2019-04-05T12:00:00-05:00</td>\n",
       "      <td>None</td>\n",
       "      <td>General-purpose credit card or charge card</td>\n",
       "      <td>Yes</td>\n",
       "      <td></td>\n",
       "      <td>Charged too much interest</td>\n",
       "      <td>N/A</td>\n",
       "    </tr>\n",
       "  </tbody>\n",
       "</table>\n",
       "<p>5 rows × 22 columns</p>\n",
       "</div>"
      ],
      "text/plain": [
       "                _index      _type      _id  _score   _source.tags  \\\n",
       "0  complaint-public-v2  complaint  3211475     0.0           None   \n",
       "1  complaint-public-v2  complaint  3229299     0.0  Servicemember   \n",
       "2  complaint-public-v2  complaint  3199379     0.0           None   \n",
       "3  complaint-public-v2  complaint  2673060     0.0           None   \n",
       "4  complaint-public-v2  complaint  3203545     0.0           None   \n",
       "\n",
       "  _source.zip_code _source.complaint_id                       _source.issue  \\\n",
       "0            90301              3211475   Attempts to collect debt not owed   \n",
       "1            319XX              3229299     Written notification about debt   \n",
       "2            77069              3199379  Other features, terms, or problems   \n",
       "3            48066              2673060      Trouble during payment process   \n",
       "4            10473              3203545                    Fees or interest   \n",
       "\n",
       "       _source.date_received _source.state  ... _source.company_response  \\\n",
       "0  2019-04-13T12:00:00-05:00            CA  ...  Closed with explanation   \n",
       "1  2019-05-01T12:00:00-05:00            GA  ...  Closed with explanation   \n",
       "2  2019-04-02T12:00:00-05:00            TX  ...  Closed with explanation   \n",
       "3  2017-09-13T12:00:00-05:00            MI  ...  Closed with explanation   \n",
       "4  2019-04-05T12:00:00-05:00            NY  ...  Closed with explanation   \n",
       "\n",
       "        _source.company _source.submitted_via _source.date_sent_to_company  \\\n",
       "0  JPMORGAN CHASE & CO.                   Web    2019-04-13T12:00:00-05:00   \n",
       "1  JPMORGAN CHASE & CO.                   Web    2019-05-01T12:00:00-05:00   \n",
       "2  JPMORGAN CHASE & CO.                   Web    2019-04-02T12:00:00-05:00   \n",
       "3  JPMORGAN CHASE & CO.                   Web    2017-09-14T12:00:00-05:00   \n",
       "4  JPMORGAN CHASE & CO.              Referral    2019-04-05T12:00:00-05:00   \n",
       "\n",
       "  _source.company_public_response                         _source.sub_product  \\\n",
       "0                            None                            Credit card debt   \n",
       "1                            None                            Credit card debt   \n",
       "2                            None  General-purpose credit card or charge card   \n",
       "3                            None                  Conventional home mortgage   \n",
       "4                            None  General-purpose credit card or charge card   \n",
       "\n",
       "  _source.timely                    _source.complaint_what_happened  \\\n",
       "0            Yes                                                      \n",
       "1            Yes  Good morning my name is XXXX XXXX and I apprec...   \n",
       "2            Yes  I upgraded my XXXX XXXX card in XX/XX/2018 and...   \n",
       "3            Yes                                                      \n",
       "4            Yes                                                      \n",
       "\n",
       "                                  _source.sub_issue  \\\n",
       "0                                 Debt is not yours   \n",
       "1  Didn't receive enough information to verify debt   \n",
       "2             Problem with rewards from credit card   \n",
       "3                                              None   \n",
       "4                         Charged too much interest   \n",
       "\n",
       "  _source.consumer_consent_provided  \n",
       "0              Consent not provided  \n",
       "1                  Consent provided  \n",
       "2                  Consent provided  \n",
       "3              Consent not provided  \n",
       "4                               N/A  \n",
       "\n",
       "[5 rows x 22 columns]"
      ]
     },
     "execution_count": 3,
     "metadata": {},
     "output_type": "execute_result"
    }
   ],
   "source": [
    "# Inspect the dataframe to understand the given data.\n",
    "df.head()\n"
   ]
  },
  {
   "cell_type": "code",
   "execution_count": 4,
   "metadata": {
    "id": "Dwcty-wmJrFw"
   },
   "outputs": [
    {
     "data": {
      "text/plain": [
       "Index(['_index', '_type', '_id', '_score', '_source.tags', '_source.zip_code',\n",
       "       '_source.complaint_id', '_source.issue', '_source.date_received',\n",
       "       '_source.state', '_source.consumer_disputed', '_source.product',\n",
       "       '_source.company_response', '_source.company', '_source.submitted_via',\n",
       "       '_source.date_sent_to_company', '_source.company_public_response',\n",
       "       '_source.sub_product', '_source.timely',\n",
       "       '_source.complaint_what_happened', '_source.sub_issue',\n",
       "       '_source.consumer_consent_provided'],\n",
       "      dtype='object')"
      ]
     },
     "execution_count": 4,
     "metadata": {},
     "output_type": "execute_result"
    }
   ],
   "source": [
    "#print the column names\n",
    "df.columns"
   ]
  },
  {
   "cell_type": "code",
   "execution_count": 5,
   "metadata": {},
   "outputs": [
    {
     "name": "stdout",
     "output_type": "stream",
     "text": [
      "<class 'pandas.core.frame.DataFrame'>\n",
      "RangeIndex: 78313 entries, 0 to 78312\n",
      "Data columns (total 22 columns):\n",
      " #   Column                             Non-Null Count  Dtype  \n",
      "---  ------                             --------------  -----  \n",
      " 0   _index                             78313 non-null  object \n",
      " 1   _type                              78313 non-null  object \n",
      " 2   _id                                78313 non-null  object \n",
      " 3   _score                             78313 non-null  float64\n",
      " 4   _source.tags                       10900 non-null  object \n",
      " 5   _source.zip_code                   71556 non-null  object \n",
      " 6   _source.complaint_id               78313 non-null  object \n",
      " 7   _source.issue                      78313 non-null  object \n",
      " 8   _source.date_received              78313 non-null  object \n",
      " 9   _source.state                      76322 non-null  object \n",
      " 10  _source.consumer_disputed          78313 non-null  object \n",
      " 11  _source.product                    78313 non-null  object \n",
      " 12  _source.company_response           78313 non-null  object \n",
      " 13  _source.company                    78313 non-null  object \n",
      " 14  _source.submitted_via              78313 non-null  object \n",
      " 15  _source.date_sent_to_company       78313 non-null  object \n",
      " 16  _source.company_public_response    4 non-null      object \n",
      " 17  _source.sub_product                67742 non-null  object \n",
      " 18  _source.timely                     78313 non-null  object \n",
      " 19  _source.complaint_what_happened    78313 non-null  object \n",
      " 20  _source.sub_issue                  32016 non-null  object \n",
      " 21  _source.consumer_consent_provided  77305 non-null  object \n",
      "dtypes: float64(1), object(21)\n",
      "memory usage: 13.1+ MB\n"
     ]
    }
   ],
   "source": [
    "df.info()"
   ]
  },
  {
   "cell_type": "code",
   "execution_count": 6,
   "metadata": {},
   "outputs": [],
   "source": [
    "df = df[['_source.complaint_what_happened']]\n"
   ]
  },
  {
   "cell_type": "code",
   "execution_count": 7,
   "metadata": {},
   "outputs": [],
   "source": [
    "df.rename(columns = {'_source.complaint_what_happened' : 'complaint_what_happened'}, inplace = True)"
   ]
  },
  {
   "cell_type": "code",
   "execution_count": 8,
   "metadata": {
    "scrolled": true
   },
   "outputs": [
    {
     "data": {
      "text/html": [
       "<div>\n",
       "<style scoped>\n",
       "    .dataframe tbody tr th:only-of-type {\n",
       "        vertical-align: middle;\n",
       "    }\n",
       "\n",
       "    .dataframe tbody tr th {\n",
       "        vertical-align: top;\n",
       "    }\n",
       "\n",
       "    .dataframe thead th {\n",
       "        text-align: right;\n",
       "    }\n",
       "</style>\n",
       "<table border=\"1\" class=\"dataframe\">\n",
       "  <thead>\n",
       "    <tr style=\"text-align: right;\">\n",
       "      <th></th>\n",
       "      <th>complaint_what_happened</th>\n",
       "    </tr>\n",
       "  </thead>\n",
       "  <tbody>\n",
       "    <tr>\n",
       "      <th>0</th>\n",
       "      <td></td>\n",
       "    </tr>\n",
       "    <tr>\n",
       "      <th>1</th>\n",
       "      <td>Good morning my name is XXXX XXXX and I apprec...</td>\n",
       "    </tr>\n",
       "    <tr>\n",
       "      <th>2</th>\n",
       "      <td>I upgraded my XXXX XXXX card in XX/XX/2018 and...</td>\n",
       "    </tr>\n",
       "    <tr>\n",
       "      <th>3</th>\n",
       "      <td></td>\n",
       "    </tr>\n",
       "    <tr>\n",
       "      <th>4</th>\n",
       "      <td></td>\n",
       "    </tr>\n",
       "  </tbody>\n",
       "</table>\n",
       "</div>"
      ],
      "text/plain": [
       "                             complaint_what_happened\n",
       "0                                                   \n",
       "1  Good morning my name is XXXX XXXX and I apprec...\n",
       "2  I upgraded my XXXX XXXX card in XX/XX/2018 and...\n",
       "3                                                   \n",
       "4                                                   "
      ]
     },
     "execution_count": 8,
     "metadata": {},
     "output_type": "execute_result"
    }
   ],
   "source": [
    "df.head()"
   ]
  },
  {
   "cell_type": "code",
   "execution_count": 9,
   "metadata": {
    "id": "FYCtKXD1JrFw"
   },
   "outputs": [
    {
     "data": {
      "text/plain": [
       "complaint_what_happened    0\n",
       "dtype: int64"
      ]
     },
     "execution_count": 9,
     "metadata": {},
     "output_type": "execute_result"
    }
   ],
   "source": [
    "#Assign new column names\n",
    "df.isna().sum()"
   ]
  },
  {
   "cell_type": "code",
   "execution_count": 10,
   "metadata": {},
   "outputs": [
    {
     "data": {
      "text/plain": [
       "0.7309258999144459"
      ]
     },
     "execution_count": 10,
     "metadata": {},
     "output_type": "execute_result"
    }
   ],
   "source": [
    "len(df[df['complaint_what_happened']==\"\"])/len(df)"
   ]
  },
  {
   "cell_type": "code",
   "execution_count": 11,
   "metadata": {
    "id": "grQUPFL5JrFx"
   },
   "outputs": [],
   "source": [
    "# Removing empty compaints\n",
    "df = df[df['complaint_what_happened']!=\"\"].reset_index()"
   ]
  },
  {
   "cell_type": "code",
   "execution_count": 12,
   "metadata": {
    "id": "Jfxd8VSmJrFy"
   },
   "outputs": [],
   "source": [
    "df.drop('index', axis = 1, inplace = True)"
   ]
  },
  {
   "cell_type": "markdown",
   "metadata": {
    "id": "L944HZpsJrFy"
   },
   "source": [
    "## Prepare the text for topic modeling\n",
    "\n",
    "* Make the text lowercase\n",
    "* Remove text in square brackets\n",
    "* Remove punctuation\n",
    "* Remove words containing numbers\n",
    "\n",
    "\n",
    "After cleaning operations :\n",
    "* Lemmatize the texts\n",
    "* Extract the POS tags of the lemmatized text and remove all the words which have tags other than NN[tag == \"NN\"].\n"
   ]
  },
  {
   "cell_type": "code",
   "execution_count": 13,
   "metadata": {},
   "outputs": [],
   "source": [
    "import re\n",
    "def removeTextBrackets(x):\n",
    "    x = re.sub('\\[(.*?)\\]', \"\", x)\n",
    "    return x"
   ]
  },
  {
   "cell_type": "code",
   "execution_count": 14,
   "metadata": {},
   "outputs": [],
   "source": [
    "import spacy\n",
    "nlp = spacy.load(\"en_core_web_md\")\n",
    "\n",
    "def lemmatize(s):\n",
    "    sent = nlp(s, disable=['parser','ner'])\n",
    "    l = []\n",
    "    string = \"\"\n",
    "    for token in sent:\n",
    "        if token.tag_[:2] == 'NN':\n",
    "            l.append(token.lemma_)\n",
    "    string = \" \".join(l)\n",
    "    return string"
   ]
  },
  {
   "cell_type": "code",
   "execution_count": 15,
   "metadata": {},
   "outputs": [],
   "source": [
    "def text_prep(series):\n",
    "    series = series.str.lower()\n",
    "    series = series.swifter.apply(lambda x: removeTextBrackets(x))\n",
    "    series = series.swifter.apply(lambda x: re.sub(r'[^\\w\\s]', '', x)) \n",
    "    series = series.swifter.apply(lambda x: re.sub(r'\\w*\\d\\w*', '', x))\n",
    "    series = series.swifter.apply(lambda x: lemmatize(x))\n",
    "    return series"
   ]
  },
  {
   "cell_type": "code",
   "execution_count": 16,
   "metadata": {},
   "outputs": [
    {
     "data": {
      "application/vnd.jupyter.widget-view+json": {
       "model_id": "2fd879e3fde54ba7b8e26377190304ca",
       "version_major": 2,
       "version_minor": 0
      },
      "text/plain": [
       "Pandas Apply:   0%|          | 0/21072 [00:00<?, ?it/s]"
      ]
     },
     "metadata": {},
     "output_type": "display_data"
    },
    {
     "data": {
      "application/vnd.jupyter.widget-view+json": {
       "model_id": "e0b426f901184a4a91e9f119788589c1",
       "version_major": 2,
       "version_minor": 0
      },
      "text/plain": [
       "Pandas Apply:   0%|          | 0/21072 [00:00<?, ?it/s]"
      ]
     },
     "metadata": {},
     "output_type": "display_data"
    },
    {
     "data": {
      "application/vnd.jupyter.widget-view+json": {
       "model_id": "390573a853614401b1712461d036c2ee",
       "version_major": 2,
       "version_minor": 0
      },
      "text/plain": [
       "Pandas Apply:   0%|          | 0/21072 [00:00<?, ?it/s]"
      ]
     },
     "metadata": {},
     "output_type": "display_data"
    },
    {
     "data": {
      "application/vnd.jupyter.widget-view+json": {
       "model_id": "cc001d06ea234efeb1ee03ded370f1a6",
       "version_major": 2,
       "version_minor": 0
      },
      "text/plain": [
       "Pandas Apply:   0%|          | 0/21072 [00:00<?, ?it/s]"
      ]
     },
     "metadata": {},
     "output_type": "display_data"
    }
   ],
   "source": [
    "df_clean = pd.DataFrame()\n",
    "df_clean['complaint_POS_removed'] = text_prep(df['complaint_what_happened'])"
   ]
  },
  {
   "cell_type": "code",
   "execution_count": 17,
   "metadata": {},
   "outputs": [
    {
     "data": {
      "text/html": [
       "<div>\n",
       "<style scoped>\n",
       "    .dataframe tbody tr th:only-of-type {\n",
       "        vertical-align: middle;\n",
       "    }\n",
       "\n",
       "    .dataframe tbody tr th {\n",
       "        vertical-align: top;\n",
       "    }\n",
       "\n",
       "    .dataframe thead th {\n",
       "        text-align: right;\n",
       "    }\n",
       "</style>\n",
       "<table border=\"1\" class=\"dataframe\">\n",
       "  <thead>\n",
       "    <tr style=\"text-align: right;\">\n",
       "      <th></th>\n",
       "      <th>complaint_POS_removed</th>\n",
       "    </tr>\n",
       "  </thead>\n",
       "  <tbody>\n",
       "    <tr>\n",
       "      <th>0</th>\n",
       "      <td>morning name xxxx xxxx stop bank cardmember se...</td>\n",
       "    </tr>\n",
       "    <tr>\n",
       "      <th>1</th>\n",
       "      <td>xxxx xxxx card agent anniversary date agent in...</td>\n",
       "    </tr>\n",
       "    <tr>\n",
       "      <th>2</th>\n",
       "      <td>chase card application identity consent servic...</td>\n",
       "    </tr>\n",
       "    <tr>\n",
       "      <th>3</th>\n",
       "      <td>xxxx xxxx ticket offer ticket reward card info...</td>\n",
       "    </tr>\n",
       "    <tr>\n",
       "      <th>4</th>\n",
       "      <td>son check chase account fund chase bank accoun...</td>\n",
       "    </tr>\n",
       "  </tbody>\n",
       "</table>\n",
       "</div>"
      ],
      "text/plain": [
       "                               complaint_POS_removed\n",
       "0  morning name xxxx xxxx stop bank cardmember se...\n",
       "1  xxxx xxxx card agent anniversary date agent in...\n",
       "2  chase card application identity consent servic...\n",
       "3  xxxx xxxx ticket offer ticket reward card info...\n",
       "4  son check chase account fund chase bank accoun..."
      ]
     },
     "execution_count": 17,
     "metadata": {},
     "output_type": "execute_result"
    }
   ],
   "source": [
    "df_clean.head()"
   ]
  },
  {
   "cell_type": "markdown",
   "metadata": {},
   "source": [
    "### The personal details of customer has been masked in the dataset with xxxx. Let's remove the masked text as this will be of no use for our analysis"
   ]
  },
  {
   "cell_type": "code",
   "execution_count": 18,
   "metadata": {
    "id": "uXnN7aa_JrF0"
   },
   "outputs": [],
   "source": [
    "#Create a dataframe('df_clean') that will have only the complaints and the lemmatized complaints \n",
    "df_clean['complaint_POS_removed'] = df_clean['complaint_POS_removed'].apply(lambda x : x.replace('xxxx', ''))\n",
    "df_clean['complaint_POS_removed'] = df_clean['complaint_POS_removed'].apply(lambda x : x.replace('xxxxxxxx', ''))"
   ]
  },
  {
   "cell_type": "code",
   "execution_count": 19,
   "metadata": {},
   "outputs": [],
   "source": [
    "df_clean['complaint_POS_removed'] = df_clean['complaint_POS_removed'].str.strip()"
   ]
  },
  {
   "cell_type": "code",
   "execution_count": 20,
   "metadata": {
    "id": "AjxfchvFJrF2"
   },
   "outputs": [
    {
     "data": {
      "text/html": [
       "<div>\n",
       "<style scoped>\n",
       "    .dataframe tbody tr th:only-of-type {\n",
       "        vertical-align: middle;\n",
       "    }\n",
       "\n",
       "    .dataframe tbody tr th {\n",
       "        vertical-align: top;\n",
       "    }\n",
       "\n",
       "    .dataframe thead th {\n",
       "        text-align: right;\n",
       "    }\n",
       "</style>\n",
       "<table border=\"1\" class=\"dataframe\">\n",
       "  <thead>\n",
       "    <tr style=\"text-align: right;\">\n",
       "      <th></th>\n",
       "      <th>complaint_POS_removed</th>\n",
       "    </tr>\n",
       "  </thead>\n",
       "  <tbody>\n",
       "    <tr>\n",
       "      <th>0</th>\n",
       "      <td>morning name   stop bank cardmember service de...</td>\n",
       "    </tr>\n",
       "    <tr>\n",
       "      <th>1</th>\n",
       "      <td>card agent anniversary date agent information ...</td>\n",
       "    </tr>\n",
       "    <tr>\n",
       "      <th>2</th>\n",
       "      <td>chase card application identity consent servic...</td>\n",
       "    </tr>\n",
       "    <tr>\n",
       "      <th>3</th>\n",
       "      <td>ticket offer ticket reward card information of...</td>\n",
       "    </tr>\n",
       "    <tr>\n",
       "      <th>4</th>\n",
       "      <td>son check chase account fund chase bank accoun...</td>\n",
       "    </tr>\n",
       "    <tr>\n",
       "      <th>...</th>\n",
       "      <td>...</td>\n",
       "    </tr>\n",
       "    <tr>\n",
       "      <th>21067</th>\n",
       "      <td>chase card customer decade solicitation credit...</td>\n",
       "    </tr>\n",
       "    <tr>\n",
       "      <th>21068</th>\n",
       "      <td>wednesday  chas   visa credit card provider cl...</td>\n",
       "    </tr>\n",
       "    <tr>\n",
       "      <th>21069</th>\n",
       "      <td>pay risk consumer chase bank app chase year ba...</td>\n",
       "    </tr>\n",
       "    <tr>\n",
       "      <th>21070</th>\n",
       "      <td>credit yr chase credit card chase freedom  pro...</td>\n",
       "    </tr>\n",
       "    <tr>\n",
       "      <th>21071</th>\n",
       "      <td>year account jp morgan chase bank  order line ...</td>\n",
       "    </tr>\n",
       "  </tbody>\n",
       "</table>\n",
       "<p>21072 rows × 1 columns</p>\n",
       "</div>"
      ],
      "text/plain": [
       "                                   complaint_POS_removed\n",
       "0      morning name   stop bank cardmember service de...\n",
       "1      card agent anniversary date agent information ...\n",
       "2      chase card application identity consent servic...\n",
       "3      ticket offer ticket reward card information of...\n",
       "4      son check chase account fund chase bank accoun...\n",
       "...                                                  ...\n",
       "21067  chase card customer decade solicitation credit...\n",
       "21068  wednesday  chas   visa credit card provider cl...\n",
       "21069  pay risk consumer chase bank app chase year ba...\n",
       "21070  credit yr chase credit card chase freedom  pro...\n",
       "21071  year account jp morgan chase bank  order line ...\n",
       "\n",
       "[21072 rows x 1 columns]"
      ]
     },
     "execution_count": 20,
     "metadata": {},
     "output_type": "execute_result"
    }
   ],
   "source": [
    "#The clean dataframe should now contain the raw complaint, lemmatized complaint and the complaint after removing POS tags.\n",
    "df_clean"
   ]
  },
  {
   "cell_type": "markdown",
   "metadata": {
    "id": "_7Un1AElJrF2"
   },
   "source": [
    "## Exploratory data analysis to get familiar with the data.\n",
    "\n",
    "Write the code in this task to perform the following:\n",
    "\n",
    "*   Visualise the data according to the 'Complaint' character length\n",
    "*   Using a word cloud find the top 40 words by frequency among all the articles after processing the text\n",
    "*   Find the top unigrams,bigrams and trigrams by frequency among all the complaints after processing the text. ‘\n",
    "\n",
    "\n"
   ]
  },
  {
   "cell_type": "code",
   "execution_count": 21,
   "metadata": {
    "id": "q-zaqJF6JrF2"
   },
   "outputs": [
    {
     "data": {
      "text/plain": [
       "<AxesSubplot:>"
      ]
     },
     "execution_count": 21,
     "metadata": {},
     "output_type": "execute_result"
    },
    {
     "data": {
      "image/png": "[encoded data removed]",
      "text/plain": [
       "<Figure size 432x288 with 1 Axes>"
      ]
     },
     "metadata": {
      "needs_background": "light"
     },
     "output_type": "display_data"
    }
   ],
   "source": [
    "# Write your code here to visualise the data according to the 'Complaint' character length\n",
    "df_clean['complaint_POS_removed'].str.len().hist()"
   ]
  },
  {
   "cell_type": "code",
   "execution_count": 22,
   "metadata": {},
   "outputs": [],
   "source": [
    "#Removing -PRON- from the text corpus\n",
    "df_clean['Complaint_clean'] = df_clean['complaint_POS_removed'].str.replace('-PRON-', '')"
   ]
  },
  {
   "cell_type": "markdown",
   "metadata": {
    "id": "T9jD_6SeJrF3"
   },
   "source": [
    "#### Find the top 40 words by frequency among all the articles after processing the text."
   ]
  },
  {
   "cell_type": "code",
   "execution_count": 23,
   "metadata": {
    "id": "QcfdvtfZJrF3"
   },
   "outputs": [
    {
     "data": {
      "image/png": "[encoded data removed]",
      "text/plain": [
       "<Figure size 432x288 with 1 Axes>"
      ]
     },
     "metadata": {
      "needs_background": "light"
     },
     "output_type": "display_data"
    }
   ],
   "source": [
    "#Using a word cloud find the top 40 words by frequency among all the articles after processing the text\n",
    "from wordcloud import WordCloud\n",
    "from nltk.corpus import stopwords\n",
    "stops = set(stopwords.words('english'))\n",
    "wc = WordCloud(stopwords =stops , max_words=40).generate(' '.join(df_clean['complaint_POS_removed']))\n",
    "fig = plt.figure(1)\n",
    "plt.imshow(wc)\n",
    "plt.axis('off')\n",
    "plt.show()"
   ]
  },
  {
   "cell_type": "markdown",
   "metadata": {
    "id": "5DfCSbbmJrF4"
   },
   "source": [
    "### Find the top unigrams,bigrams and trigrams by frequency among all the complaints after processing the text."
   ]
  },
  {
   "cell_type": "code",
   "execution_count": 24,
   "metadata": {
    "id": "5mbk5DS5JrF4",
    "scrolled": true
   },
   "outputs": [],
   "source": [
    "#Write your code here to find the top 30 unigram frequency among the complaints in the cleaned datafram(df_clean). \n",
    "from sklearn.feature_extraction.text import CountVectorizer\n",
    "\n",
    "def count_freq(n_gram):\n",
    "    corpus = df_clean['Complaint_clean']\n",
    "    vec = CountVectorizer(ngram_range=(n_gram, n_gram)).fit(corpus)\n",
    "    bow = vec.transform(corpus)\n",
    "    sum_words = bow.sum(axis=0)\n",
    "    words_freq = [(word, sum_words[0, idx]) for word, idx in vec.vocabulary_.items()]\n",
    "    words_freq =sorted(words_freq, key = lambda x: x[1], reverse=True)\n",
    "    return words_freq\n"
   ]
  },
  {
   "cell_type": "code",
   "execution_count": 25,
   "metadata": {},
   "outputs": [],
   "source": [
    "dic = {1:'unigram', 2: 'bigram', 3:'trigram'}\n",
    "def visualize(ngram):\n",
    "    df = pd.DataFrame(count_freq(ngram)[:30], columns = [dic[ngram] , 'count'])\n",
    "    plt.figure(figsize=(15,6))\n",
    "    sns.barplot(x=dic[ngram], y='count', data=df, palette=\"coolwarm\")\n",
    "    plt.xticks(rotation=90)\n",
    "    plt.title(\"Top 30 \"+str(dic[ngram])+\" in the Complaint text after removing stop words and lemmatization\", fontsize=20)\n",
    "    plt.show()"
   ]
  },
  {
   "cell_type": "code",
   "execution_count": 26,
   "metadata": {},
   "outputs": [
    {
     "data": {
      "image/png": "[encoded data removed]",
      "text/plain": [
       "<Figure size 1080x432 with 1 Axes>"
      ]
     },
     "metadata": {
      "needs_background": "light"
     },
     "output_type": "display_data"
    }
   ],
   "source": [
    "visualize(1)"
   ]
  },
  {
   "cell_type": "code",
   "execution_count": 27,
   "metadata": {
    "id": "YX7fedm1JrF8"
   },
   "outputs": [
    {
     "data": {
      "text/plain": [
       "[('chase', 75392),\n",
       " ('account', 47353),\n",
       " ('credit', 32670),\n",
       " ('card', 30481),\n",
       " ('bank', 28009),\n",
       " ('payment', 21155),\n",
       " ('time', 16019),\n",
       " ('day', 12983),\n",
       " ('charge', 12074),\n",
       " ('money', 11956)]"
      ]
     },
     "execution_count": 27,
     "metadata": {},
     "output_type": "execute_result"
    }
   ],
   "source": [
    "#Print the top 10 words in the unigram frequency\n",
    "count_freq(1)[:10]"
   ]
  },
  {
   "cell_type": "code",
   "execution_count": 28,
   "metadata": {
    "id": "aV7kD7w8JrF8"
   },
   "outputs": [
    {
     "data": {
      "image/png": "[encoded data removed]",
      "text/plain": [
       "<Figure size 1080x432 with 1 Axes>"
      ]
     },
     "metadata": {
      "needs_background": "light"
     },
     "output_type": "display_data"
    }
   ],
   "source": [
    "#Write your code here to find the top 30 bigram frequency among the complaints in the cleaned datafram(df_clean). \n",
    "visualize(2)"
   ]
  },
  {
   "cell_type": "code",
   "execution_count": 29,
   "metadata": {
    "id": "NPnMNIpyJrF9"
   },
   "outputs": [
    {
     "data": {
      "text/plain": [
       "[('credit card', 12868),\n",
       " ('chase bank', 12761),\n",
       " ('account chase', 4407),\n",
       " ('credit report', 3856),\n",
       " ('chase credit', 3799),\n",
       " ('checking account', 3331),\n",
       " ('chase account', 3083),\n",
       " ('customer service', 3083),\n",
       " ('jp morgan', 2858),\n",
       " ('bank account', 2854)]"
      ]
     },
     "execution_count": 29,
     "metadata": {},
     "output_type": "execute_result"
    }
   ],
   "source": [
    "#Print the top 10 words in the bigram frequency\n",
    "count_freq(2)[:10]"
   ]
  },
  {
   "cell_type": "code",
   "execution_count": 30,
   "metadata": {
    "id": "Xkh7vtbtJrF-"
   },
   "outputs": [
    {
     "data": {
      "image/png": "[encoded data removed]",
      "text/plain": [
       "<Figure size 1080x432 with 1 Axes>"
      ]
     },
     "metadata": {
      "needs_background": "light"
     },
     "output_type": "display_data"
    }
   ],
   "source": [
    "#Write your code here to find the top 30 trigram frequency among the complaints in the cleaned datafram(df_clean). \n",
    "visualize(3)"
   ]
  },
  {
   "cell_type": "code",
   "execution_count": 31,
   "metadata": {
    "id": "REcVxNfvJrF-"
   },
   "outputs": [
    {
     "data": {
      "text/plain": [
       "[('chase credit card', 2615),\n",
       " ('jp morgan chase', 2347),\n",
       " ('credit card chase', 1142),\n",
       " ('credit card company', 998),\n",
       " ('account chase bank', 995),\n",
       " ('chase bank account', 917),\n",
       " ('credit card account', 873),\n",
       " ('morgan chase bank', 682),\n",
       " ('inquiry credit report', 553),\n",
       " ('chase customer service', 552)]"
      ]
     },
     "execution_count": 31,
     "metadata": {},
     "output_type": "execute_result"
    }
   ],
   "source": [
    "#Print the top 10 words in the trigram frequency\n",
    "count_freq(3)[:10]"
   ]
  },
  {
   "cell_type": "code",
   "execution_count": 32,
   "metadata": {
    "id": "9UIFk8fQJrF_"
   },
   "outputs": [
    {
     "data": {
      "text/html": [
       "<div>\n",
       "<style scoped>\n",
       "    .dataframe tbody tr th:only-of-type {\n",
       "        vertical-align: middle;\n",
       "    }\n",
       "\n",
       "    .dataframe tbody tr th {\n",
       "        vertical-align: top;\n",
       "    }\n",
       "\n",
       "    .dataframe thead th {\n",
       "        text-align: right;\n",
       "    }\n",
       "</style>\n",
       "<table border=\"1\" class=\"dataframe\">\n",
       "  <thead>\n",
       "    <tr style=\"text-align: right;\">\n",
       "      <th></th>\n",
       "      <th>complaint_POS_removed</th>\n",
       "      <th>Complaint_clean</th>\n",
       "    </tr>\n",
       "  </thead>\n",
       "  <tbody>\n",
       "    <tr>\n",
       "      <th>0</th>\n",
       "      <td>morning name   stop bank cardmember service de...</td>\n",
       "      <td>morning name   stop bank cardmember service de...</td>\n",
       "    </tr>\n",
       "    <tr>\n",
       "      <th>1</th>\n",
       "      <td>card agent anniversary date agent information ...</td>\n",
       "      <td>card agent anniversary date agent information ...</td>\n",
       "    </tr>\n",
       "    <tr>\n",
       "      <th>2</th>\n",
       "      <td>chase card application identity consent servic...</td>\n",
       "      <td>chase card application identity consent servic...</td>\n",
       "    </tr>\n",
       "    <tr>\n",
       "      <th>3</th>\n",
       "      <td>ticket offer ticket reward card information of...</td>\n",
       "      <td>ticket offer ticket reward card information of...</td>\n",
       "    </tr>\n",
       "    <tr>\n",
       "      <th>4</th>\n",
       "      <td>son check chase account fund chase bank accoun...</td>\n",
       "      <td>son check chase account fund chase bank accoun...</td>\n",
       "    </tr>\n",
       "    <tr>\n",
       "      <th>...</th>\n",
       "      <td>...</td>\n",
       "      <td>...</td>\n",
       "    </tr>\n",
       "    <tr>\n",
       "      <th>21067</th>\n",
       "      <td>chase card customer decade solicitation credit...</td>\n",
       "      <td>chase card customer decade solicitation credit...</td>\n",
       "    </tr>\n",
       "    <tr>\n",
       "      <th>21068</th>\n",
       "      <td>wednesday  chas   visa credit card provider cl...</td>\n",
       "      <td>wednesday  chas   visa credit card provider cl...</td>\n",
       "    </tr>\n",
       "    <tr>\n",
       "      <th>21069</th>\n",
       "      <td>pay risk consumer chase bank app chase year ba...</td>\n",
       "      <td>pay risk consumer chase bank app chase year ba...</td>\n",
       "    </tr>\n",
       "    <tr>\n",
       "      <th>21070</th>\n",
       "      <td>credit yr chase credit card chase freedom  pro...</td>\n",
       "      <td>credit yr chase credit card chase freedom  pro...</td>\n",
       "    </tr>\n",
       "    <tr>\n",
       "      <th>21071</th>\n",
       "      <td>year account jp morgan chase bank  order line ...</td>\n",
       "      <td>year account jp morgan chase bank  order line ...</td>\n",
       "    </tr>\n",
       "  </tbody>\n",
       "</table>\n",
       "<p>21072 rows × 2 columns</p>\n",
       "</div>"
      ],
      "text/plain": [
       "                                   complaint_POS_removed  \\\n",
       "0      morning name   stop bank cardmember service de...   \n",
       "1      card agent anniversary date agent information ...   \n",
       "2      chase card application identity consent servic...   \n",
       "3      ticket offer ticket reward card information of...   \n",
       "4      son check chase account fund chase bank accoun...   \n",
       "...                                                  ...   \n",
       "21067  chase card customer decade solicitation credit...   \n",
       "21068  wednesday  chas   visa credit card provider cl...   \n",
       "21069  pay risk consumer chase bank app chase year ba...   \n",
       "21070  credit yr chase credit card chase freedom  pro...   \n",
       "21071  year account jp morgan chase bank  order line ...   \n",
       "\n",
       "                                         Complaint_clean  \n",
       "0      morning name   stop bank cardmember service de...  \n",
       "1      card agent anniversary date agent information ...  \n",
       "2      chase card application identity consent servic...  \n",
       "3      ticket offer ticket reward card information of...  \n",
       "4      son check chase account fund chase bank accoun...  \n",
       "...                                                  ...  \n",
       "21067  chase card customer decade solicitation credit...  \n",
       "21068  wednesday  chas   visa credit card provider cl...  \n",
       "21069  pay risk consumer chase bank app chase year ba...  \n",
       "21070  credit yr chase credit card chase freedom  pro...  \n",
       "21071  year account jp morgan chase bank  order line ...  \n",
       "\n",
       "[21072 rows x 2 columns]"
      ]
     },
     "execution_count": 32,
     "metadata": {},
     "output_type": "execute_result"
    }
   ],
   "source": [
    "#All masked texts has been removed\n",
    "df_clean"
   ]
  },
  {
   "cell_type": "markdown",
   "metadata": {
    "id": "k-I0k0QtJrGA"
   },
   "source": [
    "## Feature Extraction\n",
    "Convert the raw texts to a matrix of TF-IDF features\n",
    "\n",
    "**max_df** is used for removing terms that appear too frequently, also known as \"corpus-specific stop words\"\n",
    "max_df = 0.95 means \"ignore terms that appear in more than 95% of the complaints\"\n",
    "\n",
    "**min_df** is used for removing terms that appear too infrequently\n",
    "min_df = 2 means \"ignore terms that appear in less than 2 complaints\""
   ]
  },
  {
   "cell_type": "code",
   "execution_count": 33,
   "metadata": {
    "id": "Y8fGwaCPJrGA"
   },
   "outputs": [],
   "source": [
    "#Write your code here to initialise the TfidfVectorizer \n",
    "tfidf = TfidfVectorizer(min_df = 2, max_df = 0.95)"
   ]
  },
  {
   "cell_type": "markdown",
   "metadata": {
    "id": "yYzD85nTJrGA"
   },
   "source": [
    "#### Create a document term matrix using fit_transform\n",
    "\n",
    "The contents of a document term matrix are tuples of (complaint_id,token_id) tf-idf score:\n",
    "The tuples that are not there have a tf-idf score of 0"
   ]
  },
  {
   "cell_type": "code",
   "execution_count": 34,
   "metadata": {
    "id": "ffzdDpp_JrGB"
   },
   "outputs": [],
   "source": [
    "#Write your code here to create the Document Term Matrix by transforming the complaints column present in df_clean.\n",
    "X = tfidf.fit_transform(df_clean['Complaint_clean'])"
   ]
  },
  {
   "cell_type": "code",
   "execution_count": 35,
   "metadata": {},
   "outputs": [
    {
     "data": {
      "text/plain": [
       "7131"
      ]
     },
     "execution_count": 35,
     "metadata": {},
     "output_type": "execute_result"
    }
   ],
   "source": [
    "len(tfidf.get_feature_names())"
   ]
  },
  {
   "cell_type": "code",
   "execution_count": 36,
   "metadata": {},
   "outputs": [
    {
     "data": {
      "text/plain": [
       "(21072, 7131)"
      ]
     },
     "execution_count": 36,
     "metadata": {},
     "output_type": "execute_result"
    }
   ],
   "source": [
    "X.shape"
   ]
  },
  {
   "cell_type": "markdown",
   "metadata": {
    "id": "7Q9lwvNEJrGB"
   },
   "source": [
    "## Topic Modelling using NMF\n",
    "\n",
    "Non-Negative Matrix Factorization (NMF) is an unsupervised technique so there are no labeling of topics that the model will be trained on. The way it works is that, NMF decomposes (or factorizes) high-dimensional vectors into a lower-dimensional representation. These lower-dimensional vectors are non-negative which also means their coefficients are non-negative.\n",
    "\n",
    "Task to be performed:\n",
    "\n",
    "* Find the best number of clusters \n",
    "* Apply the best number to create word clusters\n",
    "* Inspect & validate the correction of each cluster wrt the complaints \n",
    "* Correct the labels if needed \n",
    "* Map the clusters to topics/cluster names"
   ]
  },
  {
   "cell_type": "code",
   "execution_count": 37,
   "metadata": {
    "id": "amLT4omWJrGB"
   },
   "outputs": [],
   "source": [
    "from sklearn.decomposition import NMF"
   ]
  },
  {
   "cell_type": "markdown",
   "metadata": {
    "id": "0wYR1xUTJrGD"
   },
   "source": [
    "## Manual Topic Modeling\n",
    "You need to do take the trial & error approach to find the best num of topics for your NMF model.\n",
    "\n",
    "The only parameter that is required is the number of components i.e. the number of topics we want. This is the most crucial step in the whole topic modeling process and will greatly affect how good your final topics are."
   ]
  },
  {
   "cell_type": "code",
   "execution_count": 38,
   "metadata": {
    "id": "sgd2A6bhJrGD"
   },
   "outputs": [],
   "source": [
    "#Load your nmf_model with the n_components i.e 5\n",
    "num_topics = 5\n",
    "#keep the random_state =40\n",
    "nmf_model = NMF(num_topics, random_state = 40, max_iter = 400)"
   ]
  },
  {
   "cell_type": "code",
   "execution_count": 39,
   "metadata": {
    "id": "VPMDYbt_JrGE"
   },
   "outputs": [],
   "source": [
    "W = nmf_model.fit_transform(X)\n",
    "H = nmf_model.components_"
   ]
  },
  {
   "cell_type": "code",
   "execution_count": 40,
   "metadata": {},
   "outputs": [
    {
     "data": {
      "text/html": [
       "<div>\n",
       "<style scoped>\n",
       "    .dataframe tbody tr th:only-of-type {\n",
       "        vertical-align: middle;\n",
       "    }\n",
       "\n",
       "    .dataframe tbody tr th {\n",
       "        vertical-align: top;\n",
       "    }\n",
       "\n",
       "    .dataframe thead th {\n",
       "        text-align: right;\n",
       "    }\n",
       "</style>\n",
       "<table border=\"1\" class=\"dataframe\">\n",
       "  <thead>\n",
       "    <tr style=\"text-align: right;\">\n",
       "      <th></th>\n",
       "      <th>word 1</th>\n",
       "      <th>word 2</th>\n",
       "      <th>word 3</th>\n",
       "      <th>word 4</th>\n",
       "      <th>word 5</th>\n",
       "      <th>word 6</th>\n",
       "      <th>word 7</th>\n",
       "      <th>word 8</th>\n",
       "      <th>word 9</th>\n",
       "      <th>word 10</th>\n",
       "      <th>word 11</th>\n",
       "      <th>word 12</th>\n",
       "      <th>word 13</th>\n",
       "      <th>word 14</th>\n",
       "      <th>word 15</th>\n",
       "    </tr>\n",
       "  </thead>\n",
       "  <tbody>\n",
       "    <tr>\n",
       "      <th>topic 1</th>\n",
       "      <td>claim</td>\n",
       "      <td>fee</td>\n",
       "      <td>business</td>\n",
       "      <td>number</td>\n",
       "      <td>transaction</td>\n",
       "      <td>day</td>\n",
       "      <td>branch</td>\n",
       "      <td>deposit</td>\n",
       "      <td>checking</td>\n",
       "      <td>fund</td>\n",
       "      <td>money</td>\n",
       "      <td>chase</td>\n",
       "      <td>check</td>\n",
       "      <td>bank</td>\n",
       "      <td>account</td>\n",
       "    </tr>\n",
       "    <tr>\n",
       "      <th>topic 2</th>\n",
       "      <td>customer</td>\n",
       "      <td>claim</td>\n",
       "      <td>company</td>\n",
       "      <td>time</td>\n",
       "      <td>fee</td>\n",
       "      <td>merchant</td>\n",
       "      <td>service</td>\n",
       "      <td>purchase</td>\n",
       "      <td>fraud</td>\n",
       "      <td>transaction</td>\n",
       "      <td>dispute</td>\n",
       "      <td>credit</td>\n",
       "      <td>chase</td>\n",
       "      <td>charge</td>\n",
       "      <td>card</td>\n",
       "    </tr>\n",
       "    <tr>\n",
       "      <th>topic 3</th>\n",
       "      <td>morgan</td>\n",
       "      <td>house</td>\n",
       "      <td>rate</td>\n",
       "      <td>foreclosure</td>\n",
       "      <td>document</td>\n",
       "      <td>time</td>\n",
       "      <td>bank</td>\n",
       "      <td>letter</td>\n",
       "      <td>year</td>\n",
       "      <td>property</td>\n",
       "      <td>modification</td>\n",
       "      <td>home</td>\n",
       "      <td>chase</td>\n",
       "      <td>mortgage</td>\n",
       "      <td>loan</td>\n",
       "    </tr>\n",
       "    <tr>\n",
       "      <th>topic 4</th>\n",
       "      <td>jpmcb</td>\n",
       "      <td>limit</td>\n",
       "      <td>application</td>\n",
       "      <td>bureaus</td>\n",
       "      <td>information</td>\n",
       "      <td>reporting</td>\n",
       "      <td>company</td>\n",
       "      <td>debt</td>\n",
       "      <td>chase</td>\n",
       "      <td>score</td>\n",
       "      <td>account</td>\n",
       "      <td>card</td>\n",
       "      <td>inquiry</td>\n",
       "      <td>report</td>\n",
       "      <td>credit</td>\n",
       "    </tr>\n",
       "    <tr>\n",
       "      <th>topic 5</th>\n",
       "      <td>account</td>\n",
       "      <td>auto</td>\n",
       "      <td>chase</td>\n",
       "      <td>credit</td>\n",
       "      <td>bill</td>\n",
       "      <td>date</td>\n",
       "      <td>time</td>\n",
       "      <td>day</td>\n",
       "      <td>amount</td>\n",
       "      <td>statement</td>\n",
       "      <td>month</td>\n",
       "      <td>interest</td>\n",
       "      <td>fee</td>\n",
       "      <td>balance</td>\n",
       "      <td>payment</td>\n",
       "    </tr>\n",
       "  </tbody>\n",
       "</table>\n",
       "</div>"
      ],
      "text/plain": [
       "           word 1 word 2       word 3       word 4       word 5     word 6  \\\n",
       "topic 1     claim    fee     business       number  transaction        day   \n",
       "topic 2  customer  claim      company         time          fee   merchant   \n",
       "topic 3    morgan  house         rate  foreclosure     document       time   \n",
       "topic 4     jpmcb  limit  application      bureaus  information  reporting   \n",
       "topic 5   account   auto        chase       credit         bill       date   \n",
       "\n",
       "          word 7    word 8    word 9      word 10       word 11   word 12  \\\n",
       "topic 1   branch   deposit  checking         fund         money     chase   \n",
       "topic 2  service  purchase     fraud  transaction       dispute    credit   \n",
       "topic 3     bank    letter      year     property  modification      home   \n",
       "topic 4  company      debt     chase        score       account      card   \n",
       "topic 5     time       day    amount    statement         month  interest   \n",
       "\n",
       "         word 13   word 14  word 15  \n",
       "topic 1    check      bank  account  \n",
       "topic 2    chase    charge     card  \n",
       "topic 3    chase  mortgage     loan  \n",
       "topic 4  inquiry    report   credit  \n",
       "topic 5      fee   balance  payment  "
      ]
     },
     "execution_count": 40,
     "metadata": {},
     "output_type": "execute_result"
    }
   ],
   "source": [
    "topic_df = pd.DataFrame(columns = ['word '+str(i) for i in range(1, 16)], index = ['topic '+str(i) for i in range(1,6)])\n",
    "\n",
    "x = 0\n",
    "for topic in H.argsort()[:,-15:]:\n",
    "    y = 0\n",
    "    for word in topic:\n",
    "        if x >= topic_df.shape[0] or y >= topic_df.shape[1]:\n",
    "            break\n",
    "        topic_df.iloc[x, y] = tfidf.get_feature_names()[word]\n",
    "        y+=1\n",
    "    x+=1    \n",
    "topic_df      "
   ]
  },
  {
   "cell_type": "code",
   "execution_count": 41,
   "metadata": {
    "id": "0OIT7LmFJrGF"
   },
   "outputs": [],
   "source": [
    "#Create the best topic for each complaint in terms of integer value 0,1,2,3 & 4\n",
    "topics = {'topic 5' : 'Others',\n",
    "          'topic 3'  : 'Loan and Mortgage',\n",
    "          'topic 4' : 'Credit card service',\n",
    "          'topic 2'  : 'Dispute and Fraud',\n",
    "          'topic 1' : 'bank account service'}\n"
   ]
  },
  {
   "cell_type": "code",
   "execution_count": 42,
   "metadata": {},
   "outputs": [
    {
     "data": {
      "text/plain": [
       "(21072, 5)"
      ]
     },
     "execution_count": 42,
     "metadata": {},
     "output_type": "execute_result"
    }
   ],
   "source": [
    "W.shape"
   ]
  },
  {
   "cell_type": "code",
   "execution_count": 43,
   "metadata": {},
   "outputs": [],
   "source": [
    "W = pd.DataFrame(W, columns = ['topic '+str(i) for i in range(1,6)])"
   ]
  },
  {
   "cell_type": "code",
   "execution_count": 44,
   "metadata": {},
   "outputs": [],
   "source": [
    "W['max topic'] = W.apply(lambda x : topics.get(x.idxmax()) , axis = 1)"
   ]
  },
  {
   "cell_type": "code",
   "execution_count": 45,
   "metadata": {},
   "outputs": [
    {
     "data": {
      "text/html": [
       "<div>\n",
       "<style scoped>\n",
       "    .dataframe tbody tr th:only-of-type {\n",
       "        vertical-align: middle;\n",
       "    }\n",
       "\n",
       "    .dataframe tbody tr th {\n",
       "        vertical-align: top;\n",
       "    }\n",
       "\n",
       "    .dataframe thead th {\n",
       "        text-align: right;\n",
       "    }\n",
       "</style>\n",
       "<table border=\"1\" class=\"dataframe\">\n",
       "  <thead>\n",
       "    <tr style=\"text-align: right;\">\n",
       "      <th></th>\n",
       "      <th>topic 1</th>\n",
       "      <th>topic 2</th>\n",
       "      <th>topic 3</th>\n",
       "      <th>topic 4</th>\n",
       "      <th>topic 5</th>\n",
       "      <th>max topic</th>\n",
       "    </tr>\n",
       "  </thead>\n",
       "  <tbody>\n",
       "    <tr>\n",
       "      <th>0</th>\n",
       "      <td>0.022481</td>\n",
       "      <td>0.001661</td>\n",
       "      <td>0.020358</td>\n",
       "      <td>0.015490</td>\n",
       "      <td>0.007220</td>\n",
       "      <td>bank account service</td>\n",
       "    </tr>\n",
       "    <tr>\n",
       "      <th>1</th>\n",
       "      <td>0.006927</td>\n",
       "      <td>0.015000</td>\n",
       "      <td>0.001757</td>\n",
       "      <td>0.003162</td>\n",
       "      <td>0.002031</td>\n",
       "      <td>Dispute and Fraud</td>\n",
       "    </tr>\n",
       "    <tr>\n",
       "      <th>2</th>\n",
       "      <td>0.000000</td>\n",
       "      <td>0.025563</td>\n",
       "      <td>0.002362</td>\n",
       "      <td>0.034728</td>\n",
       "      <td>0.000000</td>\n",
       "      <td>Credit card service</td>\n",
       "    </tr>\n",
       "    <tr>\n",
       "      <th>3</th>\n",
       "      <td>0.019186</td>\n",
       "      <td>0.021477</td>\n",
       "      <td>0.019418</td>\n",
       "      <td>0.052349</td>\n",
       "      <td>0.000000</td>\n",
       "      <td>Credit card service</td>\n",
       "    </tr>\n",
       "    <tr>\n",
       "      <th>4</th>\n",
       "      <td>0.073629</td>\n",
       "      <td>0.000149</td>\n",
       "      <td>0.006614</td>\n",
       "      <td>0.000000</td>\n",
       "      <td>0.000000</td>\n",
       "      <td>bank account service</td>\n",
       "    </tr>\n",
       "  </tbody>\n",
       "</table>\n",
       "</div>"
      ],
      "text/plain": [
       "    topic 1   topic 2   topic 3   topic 4   topic 5             max topic\n",
       "0  0.022481  0.001661  0.020358  0.015490  0.007220  bank account service\n",
       "1  0.006927  0.015000  0.001757  0.003162  0.002031     Dispute and Fraud\n",
       "2  0.000000  0.025563  0.002362  0.034728  0.000000   Credit card service\n",
       "3  0.019186  0.021477  0.019418  0.052349  0.000000   Credit card service\n",
       "4  0.073629  0.000149  0.006614  0.000000  0.000000  bank account service"
      ]
     },
     "execution_count": 45,
     "metadata": {},
     "output_type": "execute_result"
    }
   ],
   "source": [
    "W.head()"
   ]
  },
  {
   "cell_type": "code",
   "execution_count": 46,
   "metadata": {
    "id": "peyYv-ORJrGF"
   },
   "outputs": [],
   "source": [
    "#Assign the best topic to each of the cmplaints in Topic Column\n",
    "df_clean['Topic'] = W['max topic']"
   ]
  },
  {
   "cell_type": "code",
   "execution_count": 47,
   "metadata": {
    "id": "fLh_Gf3nJrGF"
   },
   "outputs": [
    {
     "data": {
      "text/html": [
       "<div>\n",
       "<style scoped>\n",
       "    .dataframe tbody tr th:only-of-type {\n",
       "        vertical-align: middle;\n",
       "    }\n",
       "\n",
       "    .dataframe tbody tr th {\n",
       "        vertical-align: top;\n",
       "    }\n",
       "\n",
       "    .dataframe thead th {\n",
       "        text-align: right;\n",
       "    }\n",
       "</style>\n",
       "<table border=\"1\" class=\"dataframe\">\n",
       "  <thead>\n",
       "    <tr style=\"text-align: right;\">\n",
       "      <th></th>\n",
       "      <th>complaint_POS_removed</th>\n",
       "      <th>Complaint_clean</th>\n",
       "      <th>Topic</th>\n",
       "    </tr>\n",
       "  </thead>\n",
       "  <tbody>\n",
       "    <tr>\n",
       "      <th>0</th>\n",
       "      <td>morning name   stop bank cardmember service de...</td>\n",
       "      <td>morning name   stop bank cardmember service de...</td>\n",
       "      <td>bank account service</td>\n",
       "    </tr>\n",
       "    <tr>\n",
       "      <th>1</th>\n",
       "      <td>card agent anniversary date agent information ...</td>\n",
       "      <td>card agent anniversary date agent information ...</td>\n",
       "      <td>Dispute and Fraud</td>\n",
       "    </tr>\n",
       "    <tr>\n",
       "      <th>2</th>\n",
       "      <td>chase card application identity consent servic...</td>\n",
       "      <td>chase card application identity consent servic...</td>\n",
       "      <td>Credit card service</td>\n",
       "    </tr>\n",
       "    <tr>\n",
       "      <th>3</th>\n",
       "      <td>ticket offer ticket reward card information of...</td>\n",
       "      <td>ticket offer ticket reward card information of...</td>\n",
       "      <td>Credit card service</td>\n",
       "    </tr>\n",
       "    <tr>\n",
       "      <th>4</th>\n",
       "      <td>son check chase account fund chase bank accoun...</td>\n",
       "      <td>son check chase account fund chase bank accoun...</td>\n",
       "      <td>bank account service</td>\n",
       "    </tr>\n",
       "  </tbody>\n",
       "</table>\n",
       "</div>"
      ],
      "text/plain": [
       "                               complaint_POS_removed  \\\n",
       "0  morning name   stop bank cardmember service de...   \n",
       "1  card agent anniversary date agent information ...   \n",
       "2  chase card application identity consent servic...   \n",
       "3  ticket offer ticket reward card information of...   \n",
       "4  son check chase account fund chase bank accoun...   \n",
       "\n",
       "                                     Complaint_clean                 Topic  \n",
       "0  morning name   stop bank cardmember service de...  bank account service  \n",
       "1  card agent anniversary date agent information ...     Dispute and Fraud  \n",
       "2  chase card application identity consent servic...   Credit card service  \n",
       "3  ticket offer ticket reward card information of...   Credit card service  \n",
       "4  son check chase account fund chase bank accoun...  bank account service  "
      ]
     },
     "execution_count": 47,
     "metadata": {},
     "output_type": "execute_result"
    }
   ],
   "source": [
    "df_clean.head()"
   ]
  },
  {
   "cell_type": "code",
   "execution_count": 48,
   "metadata": {
    "id": "aQKpufSPJrGG"
   },
   "outputs": [
    {
     "data": {
      "text/html": [
       "<div>\n",
       "<style scoped>\n",
       "    .dataframe tbody tr th:only-of-type {\n",
       "        vertical-align: middle;\n",
       "    }\n",
       "\n",
       "    .dataframe tbody tr th {\n",
       "        vertical-align: top;\n",
       "    }\n",
       "\n",
       "    .dataframe thead th {\n",
       "        text-align: right;\n",
       "    }\n",
       "</style>\n",
       "<table border=\"1\" class=\"dataframe\">\n",
       "  <thead>\n",
       "    <tr style=\"text-align: right;\">\n",
       "      <th></th>\n",
       "      <th>complaint_POS_removed</th>\n",
       "      <th>Complaint_clean</th>\n",
       "      <th>Topic</th>\n",
       "    </tr>\n",
       "  </thead>\n",
       "  <tbody>\n",
       "    <tr>\n",
       "      <th>9</th>\n",
       "      <td>chase credit card datum credit report company ...</td>\n",
       "      <td>chase credit card datum credit report company ...</td>\n",
       "      <td>Credit card service</td>\n",
       "    </tr>\n",
       "    <tr>\n",
       "      <th>2</th>\n",
       "      <td>chase card application identity consent servic...</td>\n",
       "      <td>chase card application identity consent servic...</td>\n",
       "      <td>Credit card service</td>\n",
       "    </tr>\n",
       "    <tr>\n",
       "      <th>3</th>\n",
       "      <td>ticket offer ticket reward card information of...</td>\n",
       "      <td>ticket offer ticket reward card information of...</td>\n",
       "      <td>Credit card service</td>\n",
       "    </tr>\n",
       "    <tr>\n",
       "      <th>5</th>\n",
       "      <td>inquiry</td>\n",
       "      <td>inquiry</td>\n",
       "      <td>Credit card service</td>\n",
       "    </tr>\n",
       "    <tr>\n",
       "      <th>11</th>\n",
       "      <td>time attempt inquiry creditor inquiry report a...</td>\n",
       "      <td>time attempt inquiry creditor inquiry report a...</td>\n",
       "      <td>Credit card service</td>\n",
       "    </tr>\n",
       "    <tr>\n",
       "      <th>1</th>\n",
       "      <td>card agent anniversary date agent information ...</td>\n",
       "      <td>card agent anniversary date agent information ...</td>\n",
       "      <td>Dispute and Fraud</td>\n",
       "    </tr>\n",
       "    <tr>\n",
       "      <th>19</th>\n",
       "      <td>purchase    amount transaction dispute case ch...</td>\n",
       "      <td>purchase    amount transaction dispute case ch...</td>\n",
       "      <td>Dispute and Fraud</td>\n",
       "    </tr>\n",
       "    <tr>\n",
       "      <th>8</th>\n",
       "      <td>payment retailer chase pay  chase website scam...</td>\n",
       "      <td>payment retailer chase pay  chase website scam...</td>\n",
       "      <td>Dispute and Fraud</td>\n",
       "    </tr>\n",
       "    <tr>\n",
       "      <th>14</th>\n",
       "      <td>chase amazon card catering order brother funer...</td>\n",
       "      <td>chase amazon card catering order brother funer...</td>\n",
       "      <td>Dispute and Fraud</td>\n",
       "    </tr>\n",
       "    <tr>\n",
       "      <th>16</th>\n",
       "      <td>sofa love seat table chair debit card bank vis...</td>\n",
       "      <td>sofa love seat table chair debit card bank vis...</td>\n",
       "      <td>Dispute and Fraud</td>\n",
       "    </tr>\n",
       "    <tr>\n",
       "      <th>20</th>\n",
       "      <td>jp morgan chase bank question     jpmorgan cha...</td>\n",
       "      <td>jp morgan chase bank question     jpmorgan cha...</td>\n",
       "      <td>Loan and Mortgage</td>\n",
       "    </tr>\n",
       "    <tr>\n",
       "      <th>32</th>\n",
       "      <td>loan but chase financial title chase time reso...</td>\n",
       "      <td>loan but chase financial title chase time reso...</td>\n",
       "      <td>Loan and Mortgage</td>\n",
       "    </tr>\n",
       "    <tr>\n",
       "      <th>23</th>\n",
       "      <td>loan modification chase runaround mo payment a...</td>\n",
       "      <td>loan modification chase runaround mo payment a...</td>\n",
       "      <td>Loan and Mortgage</td>\n",
       "    </tr>\n",
       "    <tr>\n",
       "      <th>30</th>\n",
       "      <td>chase branch   reinstatement amount jpmorgan c...</td>\n",
       "      <td>chase branch   reinstatement amount jpmorgan c...</td>\n",
       "      <td>Loan and Mortgage</td>\n",
       "    </tr>\n",
       "    <tr>\n",
       "      <th>18</th>\n",
       "      <td>chase email today title information change cha...</td>\n",
       "      <td>chase email today title information change cha...</td>\n",
       "      <td>Loan and Mortgage</td>\n",
       "    </tr>\n",
       "    <tr>\n",
       "      <th>70</th>\n",
       "      <td>occasion bank chase overdraft fee account way ...</td>\n",
       "      <td>occasion bank chase overdraft fee account way ...</td>\n",
       "      <td>Others</td>\n",
       "    </tr>\n",
       "    <tr>\n",
       "      <th>7</th>\n",
       "      <td>summer month decline income employment month p...</td>\n",
       "      <td>summer month decline income employment month p...</td>\n",
       "      <td>Others</td>\n",
       "    </tr>\n",
       "    <tr>\n",
       "      <th>33</th>\n",
       "      <td>chase bank credit bureau day payment info  bil...</td>\n",
       "      <td>chase bank credit bureau day payment info  bil...</td>\n",
       "      <td>Others</td>\n",
       "    </tr>\n",
       "    <tr>\n",
       "      <th>57</th>\n",
       "      <td>action company date   individual group individ...</td>\n",
       "      <td>action company date   individual group individ...</td>\n",
       "      <td>Others</td>\n",
       "    </tr>\n",
       "    <tr>\n",
       "      <th>24</th>\n",
       "      <td>purchase  payment   payment closing date  stat...</td>\n",
       "      <td>purchase  payment   payment closing date  stat...</td>\n",
       "      <td>Others</td>\n",
       "    </tr>\n",
       "    <tr>\n",
       "      <th>0</th>\n",
       "      <td>morning name   stop bank cardmember service de...</td>\n",
       "      <td>morning name   stop bank cardmember service de...</td>\n",
       "      <td>bank account service</td>\n",
       "    </tr>\n",
       "    <tr>\n",
       "      <th>6</th>\n",
       "      <td>notice jp morgan chase account debit card tues...</td>\n",
       "      <td>notice jp morgan chase account debit card tues...</td>\n",
       "      <td>bank account service</td>\n",
       "    </tr>\n",
       "    <tr>\n",
       "      <th>4</th>\n",
       "      <td>son check chase account fund chase bank accoun...</td>\n",
       "      <td>son check chase account fund chase bank accoun...</td>\n",
       "      <td>bank account service</td>\n",
       "    </tr>\n",
       "    <tr>\n",
       "      <th>10</th>\n",
       "      <td>account chase auto</td>\n",
       "      <td>account chase auto</td>\n",
       "      <td>bank account service</td>\n",
       "    </tr>\n",
       "    <tr>\n",
       "      <th>12</th>\n",
       "      <td>account chase bank  code  bonus  term everythi...</td>\n",
       "      <td>account chase bank  code  bonus  term everythi...</td>\n",
       "      <td>bank account service</td>\n",
       "    </tr>\n",
       "  </tbody>\n",
       "</table>\n",
       "</div>"
      ],
      "text/plain": [
       "                                complaint_POS_removed  \\\n",
       "9   chase credit card datum credit report company ...   \n",
       "2   chase card application identity consent servic...   \n",
       "3   ticket offer ticket reward card information of...   \n",
       "5                                             inquiry   \n",
       "11  time attempt inquiry creditor inquiry report a...   \n",
       "1   card agent anniversary date agent information ...   \n",
       "19  purchase    amount transaction dispute case ch...   \n",
       "8   payment retailer chase pay  chase website scam...   \n",
       "14  chase amazon card catering order brother funer...   \n",
       "16  sofa love seat table chair debit card bank vis...   \n",
       "20  jp morgan chase bank question     jpmorgan cha...   \n",
       "32  loan but chase financial title chase time reso...   \n",
       "23  loan modification chase runaround mo payment a...   \n",
       "30  chase branch   reinstatement amount jpmorgan c...   \n",
       "18  chase email today title information change cha...   \n",
       "70  occasion bank chase overdraft fee account way ...   \n",
       "7   summer month decline income employment month p...   \n",
       "33  chase bank credit bureau day payment info  bil...   \n",
       "57  action company date   individual group individ...   \n",
       "24  purchase  payment   payment closing date  stat...   \n",
       "0   morning name   stop bank cardmember service de...   \n",
       "6   notice jp morgan chase account debit card tues...   \n",
       "4   son check chase account fund chase bank accoun...   \n",
       "10                                 account chase auto   \n",
       "12  account chase bank  code  bonus  term everythi...   \n",
       "\n",
       "                                      Complaint_clean                 Topic  \n",
       "9   chase credit card datum credit report company ...   Credit card service  \n",
       "2   chase card application identity consent servic...   Credit card service  \n",
       "3   ticket offer ticket reward card information of...   Credit card service  \n",
       "5                                             inquiry   Credit card service  \n",
       "11  time attempt inquiry creditor inquiry report a...   Credit card service  \n",
       "1   card agent anniversary date agent information ...     Dispute and Fraud  \n",
       "19  purchase    amount transaction dispute case ch...     Dispute and Fraud  \n",
       "8   payment retailer chase pay  chase website scam...     Dispute and Fraud  \n",
       "14  chase amazon card catering order brother funer...     Dispute and Fraud  \n",
       "16  sofa love seat table chair debit card bank vis...     Dispute and Fraud  \n",
       "20  jp morgan chase bank question     jpmorgan cha...     Loan and Mortgage  \n",
       "32  loan but chase financial title chase time reso...     Loan and Mortgage  \n",
       "23  loan modification chase runaround mo payment a...     Loan and Mortgage  \n",
       "30  chase branch   reinstatement amount jpmorgan c...     Loan and Mortgage  \n",
       "18  chase email today title information change cha...     Loan and Mortgage  \n",
       "70  occasion bank chase overdraft fee account way ...                Others  \n",
       "7   summer month decline income employment month p...                Others  \n",
       "33  chase bank credit bureau day payment info  bil...                Others  \n",
       "57  action company date   individual group individ...                Others  \n",
       "24  purchase  payment   payment closing date  stat...                Others  \n",
       "0   morning name   stop bank cardmember service de...  bank account service  \n",
       "6   notice jp morgan chase account debit card tues...  bank account service  \n",
       "4   son check chase account fund chase bank accoun...  bank account service  \n",
       "10                                 account chase auto  bank account service  \n",
       "12  account chase bank  code  bonus  term everythi...  bank account service  "
      ]
     },
     "execution_count": 48,
     "metadata": {},
     "output_type": "execute_result"
    }
   ],
   "source": [
    "#Print the first 5 Complaint for each of the Topics\n",
    "df_clean_sample=df_clean.groupby('Topic').head(5)\n",
    "df_clean_sample.sort_values('Topic')"
   ]
  },
  {
   "cell_type": "code",
   "execution_count": 49,
   "metadata": {
    "id": "-2ULY5K6JrGG"
   },
   "outputs": [
    {
     "data": {
      "text/html": [
       "<div>\n",
       "<style scoped>\n",
       "    .dataframe tbody tr th:only-of-type {\n",
       "        vertical-align: middle;\n",
       "    }\n",
       "\n",
       "    .dataframe tbody tr th {\n",
       "        vertical-align: top;\n",
       "    }\n",
       "\n",
       "    .dataframe thead th {\n",
       "        text-align: right;\n",
       "    }\n",
       "</style>\n",
       "<table border=\"1\" class=\"dataframe\">\n",
       "  <thead>\n",
       "    <tr style=\"text-align: right;\">\n",
       "      <th></th>\n",
       "      <th>complaint_POS_removed</th>\n",
       "      <th>Complaint_clean</th>\n",
       "      <th>Topic</th>\n",
       "    </tr>\n",
       "  </thead>\n",
       "  <tbody>\n",
       "    <tr>\n",
       "      <th>0</th>\n",
       "      <td>morning name   stop bank cardmember service de...</td>\n",
       "      <td>morning name   stop bank cardmember service de...</td>\n",
       "      <td>bank account service</td>\n",
       "    </tr>\n",
       "    <tr>\n",
       "      <th>1</th>\n",
       "      <td>card agent anniversary date agent information ...</td>\n",
       "      <td>card agent anniversary date agent information ...</td>\n",
       "      <td>Dispute and Fraud</td>\n",
       "    </tr>\n",
       "    <tr>\n",
       "      <th>2</th>\n",
       "      <td>chase card application identity consent servic...</td>\n",
       "      <td>chase card application identity consent servic...</td>\n",
       "      <td>Credit card service</td>\n",
       "    </tr>\n",
       "    <tr>\n",
       "      <th>3</th>\n",
       "      <td>ticket offer ticket reward card information of...</td>\n",
       "      <td>ticket offer ticket reward card information of...</td>\n",
       "      <td>Credit card service</td>\n",
       "    </tr>\n",
       "    <tr>\n",
       "      <th>4</th>\n",
       "      <td>son check chase account fund chase bank accoun...</td>\n",
       "      <td>son check chase account fund chase bank accoun...</td>\n",
       "      <td>bank account service</td>\n",
       "    </tr>\n",
       "    <tr>\n",
       "      <th>5</th>\n",
       "      <td>inquiry</td>\n",
       "      <td>inquiry</td>\n",
       "      <td>Credit card service</td>\n",
       "    </tr>\n",
       "    <tr>\n",
       "      <th>6</th>\n",
       "      <td>notice jp morgan chase account debit card tues...</td>\n",
       "      <td>notice jp morgan chase account debit card tues...</td>\n",
       "      <td>bank account service</td>\n",
       "    </tr>\n",
       "    <tr>\n",
       "      <th>7</th>\n",
       "      <td>summer month decline income employment month p...</td>\n",
       "      <td>summer month decline income employment month p...</td>\n",
       "      <td>Others</td>\n",
       "    </tr>\n",
       "    <tr>\n",
       "      <th>8</th>\n",
       "      <td>payment retailer chase pay  chase website scam...</td>\n",
       "      <td>payment retailer chase pay  chase website scam...</td>\n",
       "      <td>Dispute and Fraud</td>\n",
       "    </tr>\n",
       "    <tr>\n",
       "      <th>9</th>\n",
       "      <td>chase credit card datum credit report company ...</td>\n",
       "      <td>chase credit card datum credit report company ...</td>\n",
       "      <td>Credit card service</td>\n",
       "    </tr>\n",
       "    <tr>\n",
       "      <th>10</th>\n",
       "      <td>account chase auto</td>\n",
       "      <td>account chase auto</td>\n",
       "      <td>bank account service</td>\n",
       "    </tr>\n",
       "    <tr>\n",
       "      <th>11</th>\n",
       "      <td>time attempt inquiry creditor inquiry report a...</td>\n",
       "      <td>time attempt inquiry creditor inquiry report a...</td>\n",
       "      <td>Credit card service</td>\n",
       "    </tr>\n",
       "    <tr>\n",
       "      <th>12</th>\n",
       "      <td>account chase bank  code  bonus  term everythi...</td>\n",
       "      <td>account chase bank  code  bonus  term everythi...</td>\n",
       "      <td>bank account service</td>\n",
       "    </tr>\n",
       "    <tr>\n",
       "      <th>14</th>\n",
       "      <td>chase amazon card catering order brother funer...</td>\n",
       "      <td>chase amazon card catering order brother funer...</td>\n",
       "      <td>Dispute and Fraud</td>\n",
       "    </tr>\n",
       "    <tr>\n",
       "      <th>16</th>\n",
       "      <td>sofa love seat table chair debit card bank vis...</td>\n",
       "      <td>sofa love seat table chair debit card bank vis...</td>\n",
       "      <td>Dispute and Fraud</td>\n",
       "    </tr>\n",
       "    <tr>\n",
       "      <th>18</th>\n",
       "      <td>chase email today title information change cha...</td>\n",
       "      <td>chase email today title information change cha...</td>\n",
       "      <td>Loan and Mortgage</td>\n",
       "    </tr>\n",
       "    <tr>\n",
       "      <th>19</th>\n",
       "      <td>purchase    amount transaction dispute case ch...</td>\n",
       "      <td>purchase    amount transaction dispute case ch...</td>\n",
       "      <td>Dispute and Fraud</td>\n",
       "    </tr>\n",
       "    <tr>\n",
       "      <th>20</th>\n",
       "      <td>jp morgan chase bank question     jpmorgan cha...</td>\n",
       "      <td>jp morgan chase bank question     jpmorgan cha...</td>\n",
       "      <td>Loan and Mortgage</td>\n",
       "    </tr>\n",
       "    <tr>\n",
       "      <th>23</th>\n",
       "      <td>loan modification chase runaround mo payment a...</td>\n",
       "      <td>loan modification chase runaround mo payment a...</td>\n",
       "      <td>Loan and Mortgage</td>\n",
       "    </tr>\n",
       "    <tr>\n",
       "      <th>24</th>\n",
       "      <td>purchase  payment   payment closing date  stat...</td>\n",
       "      <td>purchase  payment   payment closing date  stat...</td>\n",
       "      <td>Others</td>\n",
       "    </tr>\n",
       "    <tr>\n",
       "      <th>30</th>\n",
       "      <td>chase branch   reinstatement amount jpmorgan c...</td>\n",
       "      <td>chase branch   reinstatement amount jpmorgan c...</td>\n",
       "      <td>Loan and Mortgage</td>\n",
       "    </tr>\n",
       "    <tr>\n",
       "      <th>32</th>\n",
       "      <td>loan but chase financial title chase time reso...</td>\n",
       "      <td>loan but chase financial title chase time reso...</td>\n",
       "      <td>Loan and Mortgage</td>\n",
       "    </tr>\n",
       "    <tr>\n",
       "      <th>33</th>\n",
       "      <td>chase bank credit bureau day payment info  bil...</td>\n",
       "      <td>chase bank credit bureau day payment info  bil...</td>\n",
       "      <td>Others</td>\n",
       "    </tr>\n",
       "    <tr>\n",
       "      <th>57</th>\n",
       "      <td>action company date   individual group individ...</td>\n",
       "      <td>action company date   individual group individ...</td>\n",
       "      <td>Others</td>\n",
       "    </tr>\n",
       "    <tr>\n",
       "      <th>70</th>\n",
       "      <td>occasion bank chase overdraft fee account way ...</td>\n",
       "      <td>occasion bank chase overdraft fee account way ...</td>\n",
       "      <td>Others</td>\n",
       "    </tr>\n",
       "  </tbody>\n",
       "</table>\n",
       "</div>"
      ],
      "text/plain": [
       "                                complaint_POS_removed  \\\n",
       "0   morning name   stop bank cardmember service de...   \n",
       "1   card agent anniversary date agent information ...   \n",
       "2   chase card application identity consent servic...   \n",
       "3   ticket offer ticket reward card information of...   \n",
       "4   son check chase account fund chase bank accoun...   \n",
       "5                                             inquiry   \n",
       "6   notice jp morgan chase account debit card tues...   \n",
       "7   summer month decline income employment month p...   \n",
       "8   payment retailer chase pay  chase website scam...   \n",
       "9   chase credit card datum credit report company ...   \n",
       "10                                 account chase auto   \n",
       "11  time attempt inquiry creditor inquiry report a...   \n",
       "12  account chase bank  code  bonus  term everythi...   \n",
       "14  chase amazon card catering order brother funer...   \n",
       "16  sofa love seat table chair debit card bank vis...   \n",
       "18  chase email today title information change cha...   \n",
       "19  purchase    amount transaction dispute case ch...   \n",
       "20  jp morgan chase bank question     jpmorgan cha...   \n",
       "23  loan modification chase runaround mo payment a...   \n",
       "24  purchase  payment   payment closing date  stat...   \n",
       "30  chase branch   reinstatement amount jpmorgan c...   \n",
       "32  loan but chase financial title chase time reso...   \n",
       "33  chase bank credit bureau day payment info  bil...   \n",
       "57  action company date   individual group individ...   \n",
       "70  occasion bank chase overdraft fee account way ...   \n",
       "\n",
       "                                      Complaint_clean                 Topic  \n",
       "0   morning name   stop bank cardmember service de...  bank account service  \n",
       "1   card agent anniversary date agent information ...     Dispute and Fraud  \n",
       "2   chase card application identity consent servic...   Credit card service  \n",
       "3   ticket offer ticket reward card information of...   Credit card service  \n",
       "4   son check chase account fund chase bank accoun...  bank account service  \n",
       "5                                             inquiry   Credit card service  \n",
       "6   notice jp morgan chase account debit card tues...  bank account service  \n",
       "7   summer month decline income employment month p...                Others  \n",
       "8   payment retailer chase pay  chase website scam...     Dispute and Fraud  \n",
       "9   chase credit card datum credit report company ...   Credit card service  \n",
       "10                                 account chase auto  bank account service  \n",
       "11  time attempt inquiry creditor inquiry report a...   Credit card service  \n",
       "12  account chase bank  code  bonus  term everythi...  bank account service  \n",
       "14  chase amazon card catering order brother funer...     Dispute and Fraud  \n",
       "16  sofa love seat table chair debit card bank vis...     Dispute and Fraud  \n",
       "18  chase email today title information change cha...     Loan and Mortgage  \n",
       "19  purchase    amount transaction dispute case ch...     Dispute and Fraud  \n",
       "20  jp morgan chase bank question     jpmorgan cha...     Loan and Mortgage  \n",
       "23  loan modification chase runaround mo payment a...     Loan and Mortgage  \n",
       "24  purchase  payment   payment closing date  stat...                Others  \n",
       "30  chase branch   reinstatement amount jpmorgan c...     Loan and Mortgage  \n",
       "32  loan but chase financial title chase time reso...     Loan and Mortgage  \n",
       "33  chase bank credit bureau day payment info  bil...                Others  \n",
       "57  action company date   individual group individ...                Others  \n",
       "70  occasion bank chase overdraft fee account way ...                Others  "
      ]
     },
     "execution_count": 49,
     "metadata": {},
     "output_type": "execute_result"
    }
   ],
   "source": [
    "df_clean_sample"
   ]
  },
  {
   "cell_type": "markdown",
   "metadata": {
    "id": "7Mu0QBOcJrGH"
   },
   "source": [
    "## Supervised model to predict any new complaints to the relevant Topics."
   ]
  },
  {
   "cell_type": "code",
   "execution_count": 50,
   "metadata": {
    "id": "_U8J3J8wJrGH"
   },
   "outputs": [],
   "source": [
    "#Create the dictionary again of Topic names and Topics\n",
    "\n",
    "Topic_names = {'Credit card service' : 0,\n",
    "               'Loan and Mortgage' : 1,\n",
    "               'Dispute and Fraud' : 2,\n",
    "               'bank account service' : 3,\n",
    "                'Others' : 4}\n",
    "#Replace Topics with Topic Names\n",
    "df_clean['Topic'] = df_clean['Topic'].map(Topic_names)"
   ]
  },
  {
   "cell_type": "code",
   "execution_count": 51,
   "metadata": {
    "id": "BWIgJUkQJrGH"
   },
   "outputs": [
    {
     "data": {
      "text/html": [
       "<div>\n",
       "<style scoped>\n",
       "    .dataframe tbody tr th:only-of-type {\n",
       "        vertical-align: middle;\n",
       "    }\n",
       "\n",
       "    .dataframe tbody tr th {\n",
       "        vertical-align: top;\n",
       "    }\n",
       "\n",
       "    .dataframe thead th {\n",
       "        text-align: right;\n",
       "    }\n",
       "</style>\n",
       "<table border=\"1\" class=\"dataframe\">\n",
       "  <thead>\n",
       "    <tr style=\"text-align: right;\">\n",
       "      <th></th>\n",
       "      <th>complaint_POS_removed</th>\n",
       "      <th>Complaint_clean</th>\n",
       "      <th>Topic</th>\n",
       "    </tr>\n",
       "  </thead>\n",
       "  <tbody>\n",
       "    <tr>\n",
       "      <th>0</th>\n",
       "      <td>morning name   stop bank cardmember service de...</td>\n",
       "      <td>morning name   stop bank cardmember service de...</td>\n",
       "      <td>3</td>\n",
       "    </tr>\n",
       "    <tr>\n",
       "      <th>1</th>\n",
       "      <td>card agent anniversary date agent information ...</td>\n",
       "      <td>card agent anniversary date agent information ...</td>\n",
       "      <td>2</td>\n",
       "    </tr>\n",
       "    <tr>\n",
       "      <th>2</th>\n",
       "      <td>chase card application identity consent servic...</td>\n",
       "      <td>chase card application identity consent servic...</td>\n",
       "      <td>0</td>\n",
       "    </tr>\n",
       "    <tr>\n",
       "      <th>3</th>\n",
       "      <td>ticket offer ticket reward card information of...</td>\n",
       "      <td>ticket offer ticket reward card information of...</td>\n",
       "      <td>0</td>\n",
       "    </tr>\n",
       "    <tr>\n",
       "      <th>4</th>\n",
       "      <td>son check chase account fund chase bank accoun...</td>\n",
       "      <td>son check chase account fund chase bank accoun...</td>\n",
       "      <td>3</td>\n",
       "    </tr>\n",
       "    <tr>\n",
       "      <th>...</th>\n",
       "      <td>...</td>\n",
       "      <td>...</td>\n",
       "      <td>...</td>\n",
       "    </tr>\n",
       "    <tr>\n",
       "      <th>21067</th>\n",
       "      <td>chase card customer decade solicitation credit...</td>\n",
       "      <td>chase card customer decade solicitation credit...</td>\n",
       "      <td>2</td>\n",
       "    </tr>\n",
       "    <tr>\n",
       "      <th>21068</th>\n",
       "      <td>wednesday  chas   visa credit card provider cl...</td>\n",
       "      <td>wednesday  chas   visa credit card provider cl...</td>\n",
       "      <td>2</td>\n",
       "    </tr>\n",
       "    <tr>\n",
       "      <th>21069</th>\n",
       "      <td>pay risk consumer chase bank app chase year ba...</td>\n",
       "      <td>pay risk consumer chase bank app chase year ba...</td>\n",
       "      <td>2</td>\n",
       "    </tr>\n",
       "    <tr>\n",
       "      <th>21070</th>\n",
       "      <td>credit yr chase credit card chase freedom  pro...</td>\n",
       "      <td>credit yr chase credit card chase freedom  pro...</td>\n",
       "      <td>4</td>\n",
       "    </tr>\n",
       "    <tr>\n",
       "      <th>21071</th>\n",
       "      <td>year account jp morgan chase bank  order line ...</td>\n",
       "      <td>year account jp morgan chase bank  order line ...</td>\n",
       "      <td>4</td>\n",
       "    </tr>\n",
       "  </tbody>\n",
       "</table>\n",
       "<p>21072 rows × 3 columns</p>\n",
       "</div>"
      ],
      "text/plain": [
       "                                   complaint_POS_removed  \\\n",
       "0      morning name   stop bank cardmember service de...   \n",
       "1      card agent anniversary date agent information ...   \n",
       "2      chase card application identity consent servic...   \n",
       "3      ticket offer ticket reward card information of...   \n",
       "4      son check chase account fund chase bank accoun...   \n",
       "...                                                  ...   \n",
       "21067  chase card customer decade solicitation credit...   \n",
       "21068  wednesday  chas   visa credit card provider cl...   \n",
       "21069  pay risk consumer chase bank app chase year ba...   \n",
       "21070  credit yr chase credit card chase freedom  pro...   \n",
       "21071  year account jp morgan chase bank  order line ...   \n",
       "\n",
       "                                         Complaint_clean  Topic  \n",
       "0      morning name   stop bank cardmember service de...      3  \n",
       "1      card agent anniversary date agent information ...      2  \n",
       "2      chase card application identity consent servic...      0  \n",
       "3      ticket offer ticket reward card information of...      0  \n",
       "4      son check chase account fund chase bank accoun...      3  \n",
       "...                                                  ...    ...  \n",
       "21067  chase card customer decade solicitation credit...      2  \n",
       "21068  wednesday  chas   visa credit card provider cl...      2  \n",
       "21069  pay risk consumer chase bank app chase year ba...      2  \n",
       "21070  credit yr chase credit card chase freedom  pro...      4  \n",
       "21071  year account jp morgan chase bank  order line ...      4  \n",
       "\n",
       "[21072 rows x 3 columns]"
      ]
     },
     "execution_count": 51,
     "metadata": {},
     "output_type": "execute_result"
    }
   ],
   "source": [
    "df_clean"
   ]
  },
  {
   "cell_type": "code",
   "execution_count": 52,
   "metadata": {
    "id": "Xx-FrbkWJrGH"
   },
   "outputs": [],
   "source": [
    "#Keep the columns\"complaint_what_happened\" & \"Topic\" only in the new dataframe --> training_data\n",
    "training_data = df_clean.iloc[:, 1:]"
   ]
  },
  {
   "cell_type": "code",
   "execution_count": 53,
   "metadata": {
    "id": "lVg2pa12JrGI"
   },
   "outputs": [
    {
     "data": {
      "text/html": [
       "<div>\n",
       "<style scoped>\n",
       "    .dataframe tbody tr th:only-of-type {\n",
       "        vertical-align: middle;\n",
       "    }\n",
       "\n",
       "    .dataframe tbody tr th {\n",
       "        vertical-align: top;\n",
       "    }\n",
       "\n",
       "    .dataframe thead th {\n",
       "        text-align: right;\n",
       "    }\n",
       "</style>\n",
       "<table border=\"1\" class=\"dataframe\">\n",
       "  <thead>\n",
       "    <tr style=\"text-align: right;\">\n",
       "      <th></th>\n",
       "      <th>Complaint_clean</th>\n",
       "      <th>Topic</th>\n",
       "    </tr>\n",
       "  </thead>\n",
       "  <tbody>\n",
       "    <tr>\n",
       "      <th>0</th>\n",
       "      <td>morning name   stop bank cardmember service de...</td>\n",
       "      <td>3</td>\n",
       "    </tr>\n",
       "    <tr>\n",
       "      <th>1</th>\n",
       "      <td>card agent anniversary date agent information ...</td>\n",
       "      <td>2</td>\n",
       "    </tr>\n",
       "    <tr>\n",
       "      <th>2</th>\n",
       "      <td>chase card application identity consent servic...</td>\n",
       "      <td>0</td>\n",
       "    </tr>\n",
       "    <tr>\n",
       "      <th>3</th>\n",
       "      <td>ticket offer ticket reward card information of...</td>\n",
       "      <td>0</td>\n",
       "    </tr>\n",
       "    <tr>\n",
       "      <th>4</th>\n",
       "      <td>son check chase account fund chase bank accoun...</td>\n",
       "      <td>3</td>\n",
       "    </tr>\n",
       "    <tr>\n",
       "      <th>...</th>\n",
       "      <td>...</td>\n",
       "      <td>...</td>\n",
       "    </tr>\n",
       "    <tr>\n",
       "      <th>21067</th>\n",
       "      <td>chase card customer decade solicitation credit...</td>\n",
       "      <td>2</td>\n",
       "    </tr>\n",
       "    <tr>\n",
       "      <th>21068</th>\n",
       "      <td>wednesday  chas   visa credit card provider cl...</td>\n",
       "      <td>2</td>\n",
       "    </tr>\n",
       "    <tr>\n",
       "      <th>21069</th>\n",
       "      <td>pay risk consumer chase bank app chase year ba...</td>\n",
       "      <td>2</td>\n",
       "    </tr>\n",
       "    <tr>\n",
       "      <th>21070</th>\n",
       "      <td>credit yr chase credit card chase freedom  pro...</td>\n",
       "      <td>4</td>\n",
       "    </tr>\n",
       "    <tr>\n",
       "      <th>21071</th>\n",
       "      <td>year account jp morgan chase bank  order line ...</td>\n",
       "      <td>4</td>\n",
       "    </tr>\n",
       "  </tbody>\n",
       "</table>\n",
       "<p>21072 rows × 2 columns</p>\n",
       "</div>"
      ],
      "text/plain": [
       "                                         Complaint_clean  Topic\n",
       "0      morning name   stop bank cardmember service de...      3\n",
       "1      card agent anniversary date agent information ...      2\n",
       "2      chase card application identity consent servic...      0\n",
       "3      ticket offer ticket reward card information of...      0\n",
       "4      son check chase account fund chase bank accoun...      3\n",
       "...                                                  ...    ...\n",
       "21067  chase card customer decade solicitation credit...      2\n",
       "21068  wednesday  chas   visa credit card provider cl...      2\n",
       "21069  pay risk consumer chase bank app chase year ba...      2\n",
       "21070  credit yr chase credit card chase freedom  pro...      4\n",
       "21071  year account jp morgan chase bank  order line ...      4\n",
       "\n",
       "[21072 rows x 2 columns]"
      ]
     },
     "execution_count": 53,
     "metadata": {},
     "output_type": "execute_result"
    }
   ],
   "source": [
    "training_data"
   ]
  },
  {
   "cell_type": "markdown",
   "metadata": {
    "id": "280Vbqk-7a8M"
   },
   "source": [
    "#### Data Preprocessing:\n",
    "* Create the train & test data using the train_test_split on the tf-idf & topics\n",
    "* Create the vector counts using Count Vectoriser on train data\n",
    "* Transform the word vector to tf-idf \n",
    "\n"
   ]
  },
  {
   "cell_type": "code",
   "execution_count": 54,
   "metadata": {},
   "outputs": [
    {
     "data": {
      "text/plain": [
       "2    5938\n",
       "3    5773\n",
       "1    3873\n",
       "0    2951\n",
       "4    2537\n",
       "Name: Topic, dtype: int64"
      ]
     },
     "execution_count": 54,
     "metadata": {},
     "output_type": "execute_result"
    }
   ],
   "source": [
    "# Class division\n",
    "training_data['Topic'].value_counts()"
   ]
  },
  {
   "cell_type": "code",
   "execution_count": 55,
   "metadata": {
    "id": "oUlQpgkzJrGI"
   },
   "outputs": [],
   "source": [
    "from sklearn.model_selection import train_test_split\n",
    "\n",
    "x_train, x_test, y_train, y_test = train_test_split(training_data['Complaint_clean'], training_data['Topic'], test_size = 0.2, random_state = 40, stratify =  training_data['Topic'])\n",
    "#Write your code to get the Vector count\n",
    "cvec = CountVectorizer(ngram_range=(1,1))\n",
    "vec = cvec.fit(x_train)\n",
    "bow = vec.transform(x_train)\n",
    "\n",
    "#Write your code here to transform the word vector to tf-idf\n",
    "tfidf_transformer = TfidfTransformer()\n",
    "X_train_tfidf = tfidf_transformer.fit_transform(bow)"
   ]
  },
  {
   "cell_type": "code",
   "execution_count": 56,
   "metadata": {},
   "outputs": [],
   "source": [
    "X_test_bow = vec.transform(x_test)\n",
    "X_test_tfidf = tfidf_transformer.transform(X_test_bow)"
   ]
  },
  {
   "cell_type": "markdown",
   "metadata": {},
   "source": [
    "## Model Training and Evaluations"
   ]
  },
  {
   "cell_type": "code",
   "execution_count": 57,
   "metadata": {
    "id": "udLHpPsZJrGI"
   },
   "outputs": [],
   "source": [
    "# Write your code here to build any 3 models and evaluate them using the required metrics\n",
    "from sklearn.linear_model import LogisticRegression\n",
    "from sklearn.ensemble import RandomForestClassifier\n",
    "from sklearn.model_selection import GridSearchCV\n",
    "from sklearn.model_selection import StratifiedKFold\n",
    "from sklearn.metrics import classification_report, confusion_matrix\n",
    "from sklearn.tree import DecisionTreeClassifier\n",
    "import seaborn as sns\n",
    "import xgboost"
   ]
  },
  {
   "cell_type": "code",
   "execution_count": 58,
   "metadata": {},
   "outputs": [],
   "source": [
    "# Hyper params tuning\n",
    "def gridSearchCV(params, model) :\n",
    "    cv = StratifiedKFold(n_splits=5)\n",
    "    gcv = GridSearchCV(estimator = model, param_grid = params, cv = cv, n_jobs = -1)\n",
    "    gcv.fit(X_train_tfidf, y_train)\n",
    "    return gcv.best_params_, gcv.best_estimator_"
   ]
  },
  {
   "cell_type": "code",
   "execution_count": 59,
   "metadata": {},
   "outputs": [],
   "source": [
    "# Evaluation metrics\n",
    "list_topics = [\"Credit card service\", \"Loan and Mortgage\", \"Dispute and Fraud\",\"bank account service\",\"Others\"]\n",
    "def eval(y_test, y_pred) :\n",
    "    print(classification_report(y_test, y_pred,  target_names = list_topics))\n",
    "    mat = confusion_matrix(y_test, y_pred)\n",
    "    sns.heatmap(mat, annot = True, cbar=None, cmap=\"Blues\", fmt='d', xticklabels=list_topics, yticklabels=list_topics)"
   ]
  },
  {
   "cell_type": "markdown",
   "metadata": {},
   "source": [
    "### Logistic Regression"
   ]
  },
  {
   "cell_type": "code",
   "execution_count": 60,
   "metadata": {},
   "outputs": [],
   "source": [
    "# lr = LogisticRegression(max_iter = 200)\n",
    "# params = {'C' : [0.1,0.5,1,2,], 'penalty' : ['l1', 'l2'], 'solver' : ['saga']}\n",
    "# best_param, best_model = gridSearchCV(params, lr)"
   ]
  },
  {
   "cell_type": "code",
   "execution_count": 61,
   "metadata": {},
   "outputs": [],
   "source": [
    "m1 = LogisticRegression(C = 2, penalty = 'l1', solver = 'saga', max_iter = 200, n_jobs = -1).fit(X_train_tfidf, y_train)\n",
    "y_pred1 = m1.predict(X_test_tfidf)"
   ]
  },
  {
   "cell_type": "code",
   "execution_count": 62,
   "metadata": {},
   "outputs": [
    {
     "name": "stdout",
     "output_type": "stream",
     "text": [
      "                      precision    recall  f1-score   support\n",
      "\n",
      " Credit card service       0.98      0.97      0.98       590\n",
      "   Loan and Mortgage       0.97      0.98      0.97       775\n",
      "   Dispute and Fraud       0.98      0.98      0.98      1188\n",
      "bank account service       0.99      0.98      0.99      1155\n",
      "              Others       0.97      0.98      0.97       507\n",
      "\n",
      "            accuracy                           0.98      4215\n",
      "           macro avg       0.98      0.98      0.98      4215\n",
      "        weighted avg       0.98      0.98      0.98      4215\n",
      "\n"
     ]
    },
    {
     "data": {
      "image/png": "[encoded data removed]",
      "text/plain": [
       "<Figure size 432x288 with 1 Axes>"
      ]
     },
     "metadata": {
      "needs_background": "light"
     },
     "output_type": "display_data"
    }
   ],
   "source": [
    "eval(y_test, y_pred1)"
   ]
  },
  {
   "cell_type": "markdown",
   "metadata": {},
   "source": [
    "### Decision Tree"
   ]
  },
  {
   "cell_type": "code",
   "execution_count": 63,
   "metadata": {},
   "outputs": [],
   "source": [
    "m2 = DecisionTreeClassifier(criterion='gini', max_depth=30, min_samples_leaf=15, max_features=None).fit(X_train_tfidf, y_train)\n",
    "y_pred2 = m2.predict(X_test_tfidf)"
   ]
  },
  {
   "cell_type": "code",
   "execution_count": 64,
   "metadata": {},
   "outputs": [
    {
     "name": "stdout",
     "output_type": "stream",
     "text": [
      "                      precision    recall  f1-score   support\n",
      "\n",
      " Credit card service       0.81      0.80      0.80       590\n",
      "   Loan and Mortgage       0.83      0.83      0.83       775\n",
      "   Dispute and Fraud       0.82      0.87      0.85      1188\n",
      "bank account service       0.88      0.86      0.87      1155\n",
      "              Others       0.84      0.77      0.80       507\n",
      "\n",
      "            accuracy                           0.84      4215\n",
      "           macro avg       0.84      0.83      0.83      4215\n",
      "        weighted avg       0.84      0.84      0.84      4215\n",
      "\n"
     ]
    },
    {
     "data": {
      "image/png": "[encoded data removed]",
      "text/plain": [
       "<Figure size 432x288 with 1 Axes>"
      ]
     },
     "metadata": {
      "needs_background": "light"
     },
     "output_type": "display_data"
    }
   ],
   "source": [
    "eval(y_test, y_pred2)"
   ]
  },
  {
   "cell_type": "markdown",
   "metadata": {},
   "source": [
    "### Random Forest"
   ]
  },
  {
   "cell_type": "code",
   "execution_count": 65,
   "metadata": {},
   "outputs": [],
   "source": [
    "# rf = RandomForestClassifier(n_jobs = -1)\n",
    "# params = {'n_estimators' : [100, 200, 500], 'criterion' : ['gini', 'entropy'], 'max_depth' : [5,10, None], 'min_samples_split' : [2, 5, 7],\n",
    "#     'min_samples_leaf' : [1, 3, 5] }\n",
    "# best_param, best_model = gridSearchCV(params, rf)"
   ]
  },
  {
   "cell_type": "code",
   "execution_count": 66,
   "metadata": {},
   "outputs": [],
   "source": [
    "m3 = RandomForestClassifier(criterion = 'gini', max_depth = None, min_samples_leaf = 1, min_samples_split = 2, n_estimators = 500).fit(X_train_tfidf, y_train)\n",
    "y_pred3 = m3.predict(X_test_tfidf)"
   ]
  },
  {
   "cell_type": "code",
   "execution_count": 67,
   "metadata": {},
   "outputs": [
    {
     "name": "stdout",
     "output_type": "stream",
     "text": [
      "                      precision    recall  f1-score   support\n",
      "\n",
      " Credit card service       0.90      0.82      0.86       590\n",
      "   Loan and Mortgage       0.88      0.90      0.89       775\n",
      "   Dispute and Fraud       0.86      0.93      0.89      1188\n",
      "bank account service       0.87      0.95      0.91      1155\n",
      "              Others       0.92      0.61      0.73       507\n",
      "\n",
      "            accuracy                           0.88      4215\n",
      "           macro avg       0.89      0.84      0.86      4215\n",
      "        weighted avg       0.88      0.88      0.87      4215\n",
      "\n"
     ]
    },
    {
     "data": {
      "image/png": "[encoded data removed]",
      "text/plain": [
       "<Figure size 432x288 with 1 Axes>"
      ]
     },
     "metadata": {
      "needs_background": "light"
     },
     "output_type": "display_data"
    }
   ],
   "source": [
    "eval(y_test, y_pred3)"
   ]
  },
  {
   "cell_type": "markdown",
   "metadata": {},
   "source": [
    "### XGBoost"
   ]
  },
  {
   "cell_type": "code",
   "execution_count": 68,
   "metadata": {},
   "outputs": [],
   "source": [
    "# tree method = gpu_hist\n",
    "# params = {'booster': ['gbtree'], 'eta' : [0.3]}\n",
    "# xgb = xgboost.XGBClassifier(tree_method = 'gpu_hist',predictor=\"gpu_predictor\", n_jobs = -1)\n",
    "# best_param, best_model = gridSearchCV(params, xgb)"
   ]
  },
  {
   "cell_type": "code",
   "execution_count": 69,
   "metadata": {},
   "outputs": [
    {
     "name": "stderr",
     "output_type": "stream",
     "text": [
      "C:\\Users\\harsh\\anaconda3\\envs\\myenv\\lib\\site-packages\\xgboost\\sklearn.py:1224: UserWarning:\n",
      "\n",
      "The use of label encoder in XGBClassifier is deprecated and will be removed in a future release. To remove this warning, do the following: 1) Pass option use_label_encoder=False when constructing XGBClassifier object; and 2) Encode your labels (y) as integers starting with 0, i.e. 0, 1, 2, ..., [num_class - 1].\n",
      "\n"
     ]
    },
    {
     "name": "stdout",
     "output_type": "stream",
     "text": [
      "[01:01:32] WARNING: D:\\bld\\xgboost-split_1645118015404\\work\\src\\learner.cc:1115: Starting in XGBoost 1.3.0, the default evaluation metric used with the objective 'multi:softprob' was changed from 'merror' to 'mlogloss'. Explicitly set eval_metric if you'd like to restore the old behavior.\n"
     ]
    }
   ],
   "source": [
    "m4 = xgboost.XGBClassifier(n_jobs = -1, max_depth = 5).fit(X_train_tfidf, y_train)\n",
    "y_pred4 = m4.predict(X_test_tfidf)"
   ]
  },
  {
   "cell_type": "code",
   "execution_count": 70,
   "metadata": {},
   "outputs": [
    {
     "name": "stdout",
     "output_type": "stream",
     "text": [
      "                      precision    recall  f1-score   support\n",
      "\n",
      " Credit card service       0.93      0.95      0.94       590\n",
      "   Loan and Mortgage       0.95      0.93      0.94       775\n",
      "   Dispute and Fraud       0.94      0.95      0.95      1188\n",
      "bank account service       0.96      0.95      0.96      1155\n",
      "              Others       0.93      0.92      0.92       507\n",
      "\n",
      "            accuracy                           0.94      4215\n",
      "           macro avg       0.94      0.94      0.94      4215\n",
      "        weighted avg       0.94      0.94      0.94      4215\n",
      "\n"
     ]
    },
    {
     "data": {
      "image/png": "[encoded data removed]",
      "text/plain": [
       "<Figure size 432x288 with 1 Axes>"
      ]
     },
     "metadata": {
      "needs_background": "light"
     },
     "output_type": "display_data"
    }
   ],
   "source": [
    "eval(y_test, y_pred4)"
   ]
  },
  {
   "cell_type": "markdown",
   "metadata": {},
   "source": [
    "## Logistic regression and XGBoost have the best performance in terms of accuracy and F1 score.\n"
   ]
  },
  {
   "cell_type": "code",
   "execution_count": 71,
   "metadata": {},
   "outputs": [],
   "source": [
    "import pickle\n",
    "# Save pickle file\n",
    "pickle.dump( m1, open(\"logreg_model.pkl\", \"wb\"))\n",
    "pickle.dump(tfidf_transformer, open(\"tfidf.pkl\",\"wb\"))\n",
    "pickle.dump(vec.vocabulary_, open(\"count_vector.pkl\",\"wb\"))"
   ]
  },
  {
   "cell_type": "markdown",
   "metadata": {},
   "source": [
    "### Model Testing and Inference"
   ]
  },
  {
   "cell_type": "code",
   "execution_count": 72,
   "metadata": {},
   "outputs": [],
   "source": [
    "def predict_topic(text):\n",
    "    \n",
    "    target_names = list_topics\n",
    "    loaded_vec = CountVectorizer(vocabulary=pickle.load(open(\"count_vector.pkl\", \"rb\")))\n",
    "    loaded_tfidf = pickle.load(open(\"tfidf.pkl\",\"rb\"))\n",
    "    loaded_model = pickle.load(open(\"logreg_model.pkl\",\"rb\"))\n",
    "\n",
    "    X_new_counts = loaded_vec.transform(text)\n",
    "    X_new_tfidf = loaded_tfidf.transform(X_new_counts)\n",
    "    predicted = loaded_model.predict(X_new_tfidf)\n",
    "\n",
    "    return target_names[predicted[0]]"
   ]
  },
  {
   "cell_type": "code",
   "execution_count": 73,
   "metadata": {},
   "outputs": [],
   "source": [
    "# Create a dataframe of some sample customer complaints\n",
    "df_new = pd.DataFrame({'complaints': [\"I can not get from chase who services my mortgage, who owns it and who has original loan docs\", \n",
    "                                  \"The bill amount of my credit card was debited twice. Please look into the matter and resolve at the earliest.\",\n",
    "                                  \"I want to open a salary account at your downtown branch. Please provide me the procedure.\",\n",
    "                                  \"Yesterday, I received a fraudulent email regarding renewal of my services.\",\n",
    "                                  \"What is the procedure to know my CIBIL score?\",\n",
    "                                  \"I need to know the number of bank branches and their locations in the city of Dubai\"]})\n"
   ]
  },
  {
   "cell_type": "code",
   "execution_count": 74,
   "metadata": {},
   "outputs": [
    {
     "data": {
      "application/vnd.jupyter.widget-view+json": {
       "model_id": "f523350cb67c412882a41f098f2b9958",
       "version_major": 2,
       "version_minor": 0
      },
      "text/plain": [
       "Pandas Apply:   0%|          | 0/6 [00:00<?, ?it/s]"
      ]
     },
     "metadata": {},
     "output_type": "display_data"
    },
    {
     "data": {
      "application/vnd.jupyter.widget-view+json": {
       "model_id": "edcbf2abb6a54967abc2f0bf44b69d88",
       "version_major": 2,
       "version_minor": 0
      },
      "text/plain": [
       "Pandas Apply:   0%|          | 0/6 [00:00<?, ?it/s]"
      ]
     },
     "metadata": {},
     "output_type": "display_data"
    },
    {
     "data": {
      "application/vnd.jupyter.widget-view+json": {
       "model_id": "71b507d55e194992bcd37ee2b76ff694",
       "version_major": 2,
       "version_minor": 0
      },
      "text/plain": [
       "Pandas Apply:   0%|          | 0/6 [00:00<?, ?it/s]"
      ]
     },
     "metadata": {},
     "output_type": "display_data"
    },
    {
     "data": {
      "application/vnd.jupyter.widget-view+json": {
       "model_id": "90b0dbf67adf41468f1a0c4347ed9946",
       "version_major": 2,
       "version_minor": 0
      },
      "text/plain": [
       "Pandas Apply:   0%|          | 0/6 [00:00<?, ?it/s]"
      ]
     },
     "metadata": {},
     "output_type": "display_data"
    }
   ],
   "source": [
    "df_new['complaints_clean'] = text_prep(df_new['complaints'])"
   ]
  },
  {
   "cell_type": "code",
   "execution_count": 75,
   "metadata": {},
   "outputs": [],
   "source": [
    "df_new['topics'] = df_new['complaints_clean'].apply(lambda x: predict_topic([x]))"
   ]
  },
  {
   "cell_type": "code",
   "execution_count": 76,
   "metadata": {},
   "outputs": [
    {
     "data": {
      "text/html": [
       "<div>\n",
       "<style scoped>\n",
       "    .dataframe tbody tr th:only-of-type {\n",
       "        vertical-align: middle;\n",
       "    }\n",
       "\n",
       "    .dataframe tbody tr th {\n",
       "        vertical-align: top;\n",
       "    }\n",
       "\n",
       "    .dataframe thead th {\n",
       "        text-align: right;\n",
       "    }\n",
       "</style>\n",
       "<table border=\"1\" class=\"dataframe\">\n",
       "  <thead>\n",
       "    <tr style=\"text-align: right;\">\n",
       "      <th></th>\n",
       "      <th>complaints</th>\n",
       "      <th>complaints_clean</th>\n",
       "      <th>topics</th>\n",
       "    </tr>\n",
       "  </thead>\n",
       "  <tbody>\n",
       "    <tr>\n",
       "      <th>0</th>\n",
       "      <td>I can not get from chase who services my mortg...</td>\n",
       "      <td>chase mortgage loan doc</td>\n",
       "      <td>Loan and Mortgage</td>\n",
       "    </tr>\n",
       "    <tr>\n",
       "      <th>1</th>\n",
       "      <td>The bill amount of my credit card was debited ...</td>\n",
       "      <td>bill amount credit card matter</td>\n",
       "      <td>Dispute and Fraud</td>\n",
       "    </tr>\n",
       "    <tr>\n",
       "      <th>2</th>\n",
       "      <td>I want to open a salary account at your downto...</td>\n",
       "      <td>salary account downtown branch procedure</td>\n",
       "      <td>bank account service</td>\n",
       "    </tr>\n",
       "    <tr>\n",
       "      <th>3</th>\n",
       "      <td>Yesterday, I received a fraudulent email regar...</td>\n",
       "      <td>yesterday email renewal service</td>\n",
       "      <td>Dispute and Fraud</td>\n",
       "    </tr>\n",
       "    <tr>\n",
       "      <th>4</th>\n",
       "      <td>What is the procedure to know my CIBIL score?</td>\n",
       "      <td>procedure score</td>\n",
       "      <td>Credit card service</td>\n",
       "    </tr>\n",
       "    <tr>\n",
       "      <th>5</th>\n",
       "      <td>I need to know the number of bank branches and...</td>\n",
       "      <td>number bank branch location city dubai</td>\n",
       "      <td>bank account service</td>\n",
       "    </tr>\n",
       "  </tbody>\n",
       "</table>\n",
       "</div>"
      ],
      "text/plain": [
       "                                          complaints  \\\n",
       "0  I can not get from chase who services my mortg...   \n",
       "1  The bill amount of my credit card was debited ...   \n",
       "2  I want to open a salary account at your downto...   \n",
       "3  Yesterday, I received a fraudulent email regar...   \n",
       "4      What is the procedure to know my CIBIL score?   \n",
       "5  I need to know the number of bank branches and...   \n",
       "\n",
       "                           complaints_clean                topics  \n",
       "0                   chase mortgage loan doc     Loan and Mortgage  \n",
       "1            bill amount credit card matter     Dispute and Fraud  \n",
       "2  salary account downtown branch procedure  bank account service  \n",
       "3           yesterday email renewal service     Dispute and Fraud  \n",
       "4                           procedure score   Credit card service  \n",
       "5    number bank branch location city dubai  bank account service  "
      ]
     },
     "execution_count": 76,
     "metadata": {},
     "output_type": "execute_result"
    }
   ],
   "source": [
    "df_new"
   ]
  },
  {
   "cell_type": "code",
   "execution_count": null,
   "metadata": {},
   "outputs": [],
   "source": []
  }
 ],
 "metadata": {
  "colab": {
   "collapsed_sections": [
    "T9jD_6SeJrF3",
    "5DfCSbbmJrF4",
    "yYzD85nTJrGA",
    "piyLxzj6v07j",
    "280Vbqk-7a8M"
   ],
   "name": "Automatic_Ticket_Classification_Assignment.ipynb",
   "provenance": []
  },
  "kernelspec": {
   "display_name": "Python 3",
   "language": "python",
   "name": "python3"
  },
  "language_info": {
   "codemirror_mode": {
    "name": "ipython",
    "version": 3
   },
   "file_extension": ".py",
   "mimetype": "text/x-python",
   "name": "python",
   "nbconvert_exporter": "python",
   "pygments_lexer": "ipython3",
   "version": "3.8.8"
  }
 },
 "nbformat": 4,
 "nbformat_minor": 1
}
